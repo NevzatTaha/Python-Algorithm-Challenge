{
 "cells": [
  {
   "cell_type": "markdown",
   "id": "b27a80cf",
   "metadata": {},
   "source": [
    "## 1.24"
   ]
  },
  {
   "cell_type": "code",
   "execution_count": 5,
   "id": "8c311872",
   "metadata": {},
   "outputs": [
    {
     "name": "stdout",
     "output_type": "stream",
     "text": [
      "10,4,6,2,7,32,6,76,99\n",
      "3\n",
      "(2, 7, 32)\n"
     ]
    }
   ],
   "source": [
    "#tekrar çöz,\n",
    "\n",
    "\n",
    "lst = eval(input())\n",
    "\n",
    "m = int(input())\n",
    "\n",
    "n = len(lst)  # length of list\n",
    "\n",
    "print(lst[(n-m) // 2 : (n+m) // 2])  # notice the slicing operator"
   ]
  },
  {
   "cell_type": "markdown",
   "id": "8b59e8a2",
   "metadata": {},
   "source": [
    "\n",
    "# 1.25"
   ]
  },
  {
   "cell_type": "code",
   "execution_count": 10,
   "id": "6e8fd7e1",
   "metadata": {},
   "outputs": [
    {
     "name": "stdout",
     "output_type": "stream",
     "text": [
      "1,2,3,4,5,6\n",
      "1\n",
      "3\n",
      "[0, 0, 0, 4, 5, 6]\n"
     ]
    }
   ],
   "source": [
    "blocks=eval(input())\n",
    "blocks=list(blocks)\n",
    "first=int(input())-1\n",
    "second=int(input())\n",
    "length=second-first\n",
    "\n",
    "blocks[first:second]=[0]*length\n",
    "print(blocks)"
   ]
  },
  {
   "cell_type": "markdown",
   "id": "aed4c01e",
   "metadata": {},
   "source": [
    "# 1.26"
   ]
  },
  {
   "cell_type": "code",
   "execution_count": 2,
   "id": "92f89573",
   "metadata": {},
   "outputs": [],
   "source": [
    "import numpy as np"
   ]
  },
  {
   "cell_type": "code",
   "execution_count": 8,
   "id": "43dfbfa0",
   "metadata": {},
   "outputs": [
    {
     "name": "stdout",
     "output_type": "stream",
     "text": [
      "1234567\n",
      "40\n",
      "70\n",
      "3334444\n",
      "90\n",
      "80\n",
      "2981356\n",
      "35.4\n",
      "12\n",
      "2981356\n",
      "23.7\n"
     ]
    }
   ],
   "source": [
    "ID_first=int(input())\n",
    "midterm_first=float(input())\n",
    "final_grade_first=float(input())\n",
    "ID_second=int(input())\n",
    "midterm_second=float(input())\n",
    "final_grade_second=float(input())\n",
    "ID_third=int(input())\n",
    "midterm_third=float(input())\n",
    "final_grade_third=float(input())\n",
    "Expected=int(input())\n",
    "dictt={ID_first:[midterm_first,final_grade_first],ID_second:[midterm_second,final_grade_second],\n",
    "       ID_third:[midterm_third,final_grade_third]}\n",
    "print(sum(dictt[Expected])/len(dictt[Expected]))\n",
    "\n",
    "\n",
    "\n"
   ]
  },
  {
   "cell_type": "markdown",
   "id": "a7e74579",
   "metadata": {},
   "source": [
    "# 1. 27 "
   ]
  },
  {
   "cell_type": "code",
   "execution_count": 22,
   "id": "d28d16e4",
   "metadata": {},
   "outputs": [
    {
     "name": "stdout",
     "output_type": "stream",
     "text": [
      "8\n",
      "13\n",
      "1\n",
      "1 8 13\n"
     ]
    }
   ],
   "source": [
    "first=int(input())\n",
    "second=int(input())\n",
    "third=int(input())\n",
    "listt=[first,second,third]\n",
    "maxn=max(listt)\n",
    "minn=min(listt)\n",
    "listt.remove(maxn)\n",
    "listt.remove(minn)\n",
    "print(minn, listt[0], maxn, )\n",
    "\n"
   ]
  },
  {
   "cell_type": "markdown",
   "id": "90a5de23",
   "metadata": {},
   "source": [
    "# 2.1"
   ]
  },
  {
   "cell_type": "code",
   "execution_count": 29,
   "id": "677328d0",
   "metadata": {},
   "outputs": [
    {
     "name": "stdout",
     "output_type": "stream",
     "text": [
      "89\n",
      "BA\n"
     ]
    }
   ],
   "source": [
    "grade=int(input())\n",
    "if 90<=grade<=100:\n",
    "    print(\"AA\")\n",
    "elif 85<=grade<=89:\n",
    "    print(\"BA\")\n",
    "    \n",
    "\n",
    "elif 80<=grade<=84:\n",
    "    print(\"BB\")\n",
    "        \n",
    "        \n",
    "elif 75<=grade<=79:\n",
    "    print(\"CB\")\n",
    "        \n",
    "elif 70<=grade<=74:\n",
    "    print(\"CC\")\n",
    "        \n",
    "elif 65<=grade<=69:\n",
    "    print(\"DC\")\n",
    "        \n",
    "elif 60<=grade<=64:\n",
    "    print(\"DD\")\n",
    "        \n",
    "elif 50<=grade<=59:\n",
    "    print(\"FD\")\n",
    "else:\n",
    "    print(\"FF\")\n",
    "        \n",
    "   \n",
    "        "
   ]
  },
  {
   "cell_type": "markdown",
   "id": "2c919f8d",
   "metadata": {},
   "source": [
    "# 2.2"
   ]
  },
  {
   "cell_type": "code",
   "execution_count": 55,
   "id": "c6989abf",
   "metadata": {},
   "outputs": [
    {
     "name": "stdout",
     "output_type": "stream",
     "text": [
      "324\n",
      "Even Odd\n"
     ]
    }
   ],
   "source": [
    "number=int(input())\n",
    "if number%2==0 and int(str(number)[0])%2 == 0:\n",
    "    print(\"Even\")\n",
    "elif number %2==1 and int(str(number)[0])%2==1:\n",
    "    print(\"Odd\")\n",
    "elif number %2==1 and int(str(number)[0])%2==0:\n",
    "    print(\"Odd Even\")\n",
    "elif number %2==0 and int(str(number)[0])%2==1:\n",
    "    print(\"Even Odd\")\n",
    "        \n"
   ]
  },
  {
   "cell_type": "markdown",
   "id": "ec054d5e",
   "metadata": {},
   "source": [
    "# 2.3\n",
    "\n"
   ]
  },
  {
   "cell_type": "code",
   "execution_count": 12,
   "id": "369dfd36",
   "metadata": {},
   "outputs": [
    {
     "name": "stdout",
     "output_type": "stream",
     "text": [
      "23,25\n",
      "120\n"
     ]
    }
   ],
   "source": [
    "ages=eval(input())\n",
    "price=0\n",
    "for i in ages:\n",
    "    if 0<=i<=10:\n",
    "        price=price+30\n",
    "    elif 11<=i<=25:\n",
    "        price=price+60\n",
    "    elif 26<=i<=60:\n",
    "        price=price+90\n",
    "    elif 60<=i:\n",
    "        price=price+50\n",
    "print(price)\n",
    "\n",
    "\n",
    "\n"
   ]
  },
  {
   "cell_type": "markdown",
   "id": "1078b083",
   "metadata": {},
   "source": [
    "# 2.4"
   ]
  },
  {
   "cell_type": "code",
   "execution_count": 14,
   "id": "594e9ff6",
   "metadata": {},
   "outputs": [
    {
     "name": "stdout",
     "output_type": "stream",
     "text": [
      "3\n",
      "80\n",
      "1000\n",
      "200\n",
      "120.0\n"
     ]
    }
   ],
   "source": [
    "N=int(input())\n",
    "total_price=0\n",
    "for _ in range(N):\n",
    "    price=int(input())\n",
    "    if 100<price<=1000:\n",
    "        total_price=total_price+(price*0.1)\n",
    "    elif price>1000:\n",
    "        total_price=total_price+(price * 0.2)\n",
    "print(total_price)\n",
    "    \n",
    "\n",
    "    "
   ]
  },
  {
   "cell_type": "markdown",
   "id": "7b1213f6",
   "metadata": {},
   "source": [
    "# 2.5\n",
    "In a 2D board ( N×N\n",
    " ) game played by two teams (red and blue), teams select cells in turns, and each cell gives some random points to team player in it. After the game is over, the result is given in a matrix where the negative and positive values indicate the cells are occupied by the red and the blue team respectively.\n",
    "Write a program which outputs the points gathered by the red team.\n",
    "N\n",
    "  can be any positive number that is greater than or equal to 3.\n",
    "\n",
    "It is guaranteed that every cell in the board has positive or negative value at the end of the game (i.e. no zero value).\n",
    "\n",
    "Assume that the list of lists of integers representing the resulting board will be given to you as the variable  B\n",
    " ."
   ]
  },
  {
   "cell_type": "code",
   "execution_count": 17,
   "id": "3490813f",
   "metadata": {},
   "outputs": [
    {
     "name": "stdout",
     "output_type": "stream",
     "text": [
      "18\n"
     ]
    }
   ],
   "source": [
    "B = [[-3, -2, -1, -4], [4, -2, 4, 5], [-2, -1, -2, 5], [3, 1, 4, -1]]\n",
    "red_one=0\n",
    "for value in B:\n",
    "    for subvalue in value:\n",
    "        if subvalue <0:\n",
    "            red_one=abs(subvalue)+red_one\n",
    "print(red_one)\n",
    "            "
   ]
  },
  {
   "cell_type": "markdown",
   "id": "06410553",
   "metadata": {},
   "source": [
    "\n",
    "# 2.6 \n",
    "Imagine a garden of apple trees in the harvest time. Assuming the trees are planted in a regular way, in  M\n",
    "  rows each of which has  N\n",
    "  trees. Each tree has a different apple count. These count of apples can be represented as a matrix of  M×N\n",
    " . There are  M\n",
    "  workers each responsible of collecting the apples in a horizontal row.\n",
    "\n",
    "Write a script to find out the row which will procude the highest count of apple and print that row.\n",
    "\n",
    "M\n",
    "  and  N\n",
    "  are two positive integers.\n",
    "\n",
    "Assume that the matrix, namely the ‘list of lists of integers’, representing the apple counts will be given to you in a variable  G\n",
    " ."
   ]
  },
  {
   "cell_type": "code",
   "execution_count": 16,
   "id": "91e19c80",
   "metadata": {},
   "outputs": [
    {
     "name": "stdout",
     "output_type": "stream",
     "text": [
      "[20, 80, 60, 80, 90, 20, 20, 60, 80, 30]\n"
     ]
    }
   ],
   "source": [
    "G = [[20, 10, 20, 30, 80, 80, 50, 80, 40, 40], [20, 10, 50, 10, 20, 90, 90, 20, 60, 20],\n",
    "     [50, 50, 90, 10, 60, 30, 60, 20, 40, 60], [20, 80, 60, 80, 90, 20, 20, 60, 80, 30],\n",
    "     [10, 30, 50, 60, 20, 10, 90, 50, 80, 70]]\n",
    "M=len(G)\n",
    "\n",
    "max_one=[]\n",
    "for i in range (M):\n",
    "    if sum(G[i])>sum(max_one):\n",
    "        max_one=G[i]\n",
    "print(max_one)\n",
    "    \n",
    "\n",
    "\n"
   ]
  },
  {
   "cell_type": "markdown",
   "id": "29c382dd",
   "metadata": {},
   "source": [
    "# 2.7 \n",
    "Imagine the same garden in the question above. This time, the workers decide to divide the garden vertically. Namely, each worker will be responsible for the trees in a column.\n",
    "Write a script to find out which column produces the maximum number of apples in a given garden and print it.\n",
    "Hint: You need to adjust the nested loop in the previous solution, so that the traverse of the garden can be column-wise."
   ]
  },
  {
   "cell_type": "code",
   "execution_count": 15,
   "id": "37c21eb5",
   "metadata": {},
   "outputs": [
    {
     "name": "stdout",
     "output_type": "stream",
     "text": [
      "[90, 70, 40, 40, 20, 90, 70]\n"
     ]
    }
   ],
   "source": [
    "G = [[90, 10, 90, 40, 10], [70, 70, 80, 20, 30],\n",
    "     [40, 60, 20, 90, 40], [40, 50, 50, 30, 20], [20, 30, 30, 80, 30], [90, 70, 20, 10, 60], [70, 90, 40, 40, 10]]\n",
    "\n",
    "\n",
    "Transpose=zip(*G)\n",
    "Transpose=[list(row) for row in Transpose]\n",
    "\n",
    "M=len(Transpose)\n",
    "max_one=[]\n",
    "for i in range (M):\n",
    "    if sum(Transpose[i])>sum(max_one):\n",
    "        max_one=Transpose[i]\n",
    "print(max_one)\n",
    "    \n"
   ]
  },
  {
   "cell_type": "markdown",
   "id": "d82c3a7b",
   "metadata": {},
   "source": [
    "# 2.8\n",
    "In this question it is asked to determine whether the first half of a string is exactly the same of its second half. If the string is not halvable (i.e. has odd number of elements) then and error message has to be printed.\n",
    "\n",
    "For example, “abab” is such a string. When it is divided into two equal parts, the parts are “ab” and “ab” and these are the same. On the other hand, “abba” is not such a string, because the two halves are “ab” and “ba” and they are not the same. If the input string is such a ‘repeated string’, you should print “Yes”, otherwise, you should print “No”. If the length of the string is odd then print “Error”.\n",
    "tekrar\n"
   ]
  },
  {
   "cell_type": "code",
   "execution_count": 25,
   "id": "266f8029",
   "metadata": {},
   "outputs": [
    {
     "name": "stdout",
     "output_type": "stream",
     "text": [
      "ab\n",
      "No\n"
     ]
    }
   ],
   "source": [
    "string = input()\n",
    "result = \"Yes\"\n",
    "if len(string) % 2 == 0:\n",
    "    for index in range(0, int(len(string)/2)):\n",
    "        if string[index] != string[int(len(string)/2) + index]:\n",
    "            result = \"No\"\n",
    "            break\n",
    "else:\n",
    "    result = \"Error\"\n",
    "\n",
    "print(result)\n",
    "        \n"
   ]
  },
  {
   "cell_type": "markdown",
   "id": "b35cdd91",
   "metadata": {},
   "source": [
    "# 2.9\n",
    "It’s Office Olympics time! Jim is trying to find the medalists by finding the three people that have the highest scores. Can you help him find the three people who have the most wins?\n",
    "\n",
    "Write a program that takes a list of 2-tuples which consists of a string and an integer representing the name of people and their score and prints a list of 3 strings which are the names of 3 winners. You can assume that there are always at least three contestants in the Olympics."
   ]
  },
  {
   "cell_type": "code",
   "execution_count": 75,
   "id": "704ffe7e",
   "metadata": {},
   "outputs": [
    {
     "name": "stdout",
     "output_type": "stream",
     "text": [
      "['phyllis', 'jan', 'creed']\n"
     ]
    }
   ],
   "source": [
    "wins_list = [(\"jim\", 1), (\"pam\", 4), (\"jan\", 10), (\"creed\", 7), (\"micheal\", 5), (\"meredith\", 2), (\"phyllis\", 28)]\n",
    "\n",
    "new=dict(wins_list)\n",
    "listt=[]\n",
    "for i in range(3):\n",
    "    max_name=max(new, key=new.get)\n",
    "    listt.append(max_name)\n",
    "    del new[max_name]\n",
    "    if len(listt)==3:\n",
    "        print(listt)\n",
    "    \n",
    "    \n",
    "\n",
    "\n",
    "    \n"
   ]
  },
  {
   "cell_type": "markdown",
   "id": "5007d01b",
   "metadata": {},
   "source": [
    "# 2.10\n",
    "Look at the Question Tiling the Floor in the previous chapter. Now, try to write program without  gcd()\n",
    "  function.\n",
    "Hint: “The Euclid Algorithm”"
   ]
  },
  {
   "cell_type": "code",
   "execution_count": 86,
   "id": "0c397e2f",
   "metadata": {},
   "outputs": [
    {
     "name": "stdout",
     "output_type": "stream",
     "text": [
      "24\n",
      "8\n",
      "8\n"
     ]
    }
   ],
   "source": [
    "width=int(input())\n",
    "length=int(input())\n",
    "smallest_one=min(length,width)\n",
    "biggest_divisior=1\n",
    "for i in range(1,smallest_one+1):\n",
    "    if width % i ==0 and length % i ==0:\n",
    "        biggest_divisior=i\n",
    "print(biggest_divisior)\n",
    "    \n",
    "\n",
    "\n",
    "\n"
   ]
  },
  {
   "cell_type": "markdown",
   "id": "2b6189b4",
   "metadata": {},
   "source": [
    "# 2.11\n",
    "Write a program that takes 3 integers in consecutive 3 lines and determines whether these integers can be the lengths of the edges of a triangle or not. Your program should print “YES” if a triangle can be constructed with given edges and “NO” otherwise."
   ]
  },
  {
   "cell_type": "code",
   "execution_count": 9,
   "id": "cc087db5",
   "metadata": {},
   "outputs": [
    {
     "name": "stdout",
     "output_type": "stream",
     "text": [
      "2\n",
      "2\n",
      "3\n",
      "Yes\n"
     ]
    }
   ],
   "source": [
    "a=int(input())\n",
    "b=int(input())\n",
    "c=int(input())\n",
    "listt=[a,b,c]\n",
    "maxest=max(listt)\n",
    "a=0\n",
    "listt.remove(maxest)\n",
    "if listt[0]+listt[1]>maxest:\n",
    "    print(\"Yes\")\n",
    "else:\n",
    "    print(\"No\")\n",
    "    \n",
    "\n"
   ]
  },
  {
   "cell_type": "markdown",
   "id": "1685cce6",
   "metadata": {},
   "source": [
    "# 2.12\n",
    "You are playing the game known as “Fizz Buzz”. In this game you and your friends count upwards from 1, but everytime the number is a multiple of 3 you say “Fizz” instead. For multiples of 5 you say “Buzz” instead. For multiples of both, you say “Fizz Buzz”.\n",
    "\n",
    "Write a program that takes an integer n as input, prints the numbers form 1 to n, replacing the numbers with “Fizz”, “Buzz” and “Fizz Buzz” according to the game.\n",
    "\n"
   ]
  },
  {
   "cell_type": "code",
   "execution_count": 3,
   "id": "48ac86cf",
   "metadata": {},
   "outputs": [
    {
     "name": "stdout",
     "output_type": "stream",
     "text": [
      "47\n",
      "[1, 2, 'Fizz', 4, 'Buzz', 'Fizz', 7, 8, 'Fizz', 'Buzz', 11, 'Fizz', 13, 14, 'FizzBuzz', 16, 17, 'Fizz', 19, 'Buzz', 'Fizz', 22, 23, 'Fizz', 'Buzz', 26, 'Fizz', 28, 29, 'FizzBuzz', 31, 32, 'Fizz', 34, 'Buzz', 'Fizz', 37, 38, 'Fizz', 'Buzz', 41, 'Fizz', 43, 44, 'FizzBuzz', 46, 47]\n"
     ]
    }
   ],
   "source": [
    "number=int(input())\n",
    "result=[]\n",
    "for i in range(1,number+1):\n",
    "    if i % 3==0 and i % 5 ==0:\n",
    "        result.append(\"FizzBuzz\")\n",
    "    elif i % 3==0:\n",
    "        result.append(\"Fizz\")\n",
    "    elif i % 5 ==0:\n",
    "        result.append(\"Buzz\")\n",
    "    else:\n",
    "        result.append(i)\n",
    "        \n",
    "print(result)"
   ]
  },
  {
   "cell_type": "markdown",
   "id": "45a04dc2",
   "metadata": {},
   "source": [
    "# 2.13\n",
    "Marul is our friend who has come from another planet. In their planet, decimal representations of numbers are not common. Instead, they use binary representations.\n",
    "\n",
    "Write a program to help Marul, which takes an integer and prints 8-bit binary representation of that integer as a string."
   ]
  },
  {
   "cell_type": "code",
   "execution_count": 12,
   "id": "d5ca9cca",
   "metadata": {},
   "outputs": [
    {
     "name": "stdout",
     "output_type": "stream",
     "text": [
      "9\n",
      "00001001\n"
     ]
    }
   ],
   "source": [
    "n = int(input())\n",
    "s = \"\"\n",
    "\n",
    "for i in range(7,-1,-1):\n",
    "    if n >= 2**i:\n",
    "        s+=\"1\"\n",
    "        n-=2**i\n",
    "    else:\n",
    "        s+=\"0\"\n",
    "\n",
    "print(s)"
   ]
  },
  {
   "cell_type": "markdown",
   "id": "25e2eb79",
   "metadata": {},
   "source": [
    "# 2.14"
   ]
  },
  {
   "cell_type": "code",
   "execution_count": 28,
   "id": "86bd3ef1",
   "metadata": {},
   "outputs": [
    {
     "name": "stdout",
     "output_type": "stream",
     "text": [
      "AAABB\n",
      "3A\n"
     ]
    }
   ],
   "source": [
    "letter=list(input())\n",
    "number=0\n",
    "count=0\n",
    "result=[]\n",
    "for i in letter:\n",
    "    if i==letter[1]:\n",
    "        \n",
    "        count=count+1\n",
    "        result=(str(count)+i)\n",
    "    elif i!=letter[1]\n",
    "        \n",
    "\n",
    "print(result)\n",
    "        \n",
    "    \n",
    "    \n",
    "    \n"
   ]
  },
  {
   "cell_type": "markdown",
   "id": "e588bda7",
   "metadata": {},
   "source": [
    "# 2.14\n",
    "Run-length encoding is a fast and simple method of encoding strings. The basic idea is to represent repeated successive characters as a single count and the character. For example, the string “AAAABBBCCDAA” would be encoded as “4A3B2C1D2A”.\n",
    "\n",
    "Write a program to run-length encode a given string and print the result. The input string will have no digits and has only uppercase alphabetic characters. tekrar\n"
   ]
  },
  {
   "cell_type": "code",
   "execution_count": 27,
   "id": "8a1abd3e",
   "metadata": {},
   "outputs": [
    {
     "name": "stdout",
     "output_type": "stream",
     "text": [
      "aaab\n",
      "3a1b\n"
     ]
    }
   ],
   "source": [
    "input_str = input()\n",
    "\n",
    "result = \"\"\n",
    "count = 1\n",
    "for i in range(len(input_str)):\n",
    "    # If the current character is the same as the next character, increment the count\n",
    "    if i < len(input_str) - 1 and input_str[i] == input_str[i+1]:\n",
    "        count += 1\n",
    "    # Otherwise, add the count and character to the result string and reset the count\n",
    "    else:\n",
    "        result += str(count) + input_str[i]\n",
    "        count = 1\n",
    "\n",
    "print(result)\n",
    "\n",
    "        "
   ]
  },
  {
   "cell_type": "markdown",
   "id": "92064597",
   "metadata": {},
   "source": [
    "# 2.15\n",
    "Connect Four is a popular board game which is played by two players. In this game, players take a colored discs (red for one player, yellow for another) and drop them into a column in a suspended grid. The discs fall down until there are no available space left in the column. If any of the players form a diagonal, horizontal or vertical line with four of the players discs, player wins.\n",
    "\n",
    "Write a program that determines for a given board state whether there is a winner or not. The game grid is always  N×N\n",
    " ,  N≥4\n",
    " .  N\n",
    "  is given in the first input line. In the following  N\n",
    "  lines the board configuration is given row by row, represented as strings with  N\n",
    "  elements each. The elements are ’R’ for red, ’Y’ for yellow and ’.’ for empty.\n",
    "\n",
    "Print \"yes\" if there is a winner, \"no\" if not."
   ]
  },
  {
   "cell_type": "code",
   "execution_count": 48,
   "id": "e13fa204",
   "metadata": {},
   "outputs": [
    {
     "name": "stdout",
     "output_type": "stream",
     "text": [
      "4\n",
      "rrrr\n",
      "yyyr\n",
      "rrty\n",
      "rrrr\n",
      "YES\n"
     ]
    }
   ],
   "source": [
    "import numpy as np\n",
    "\n",
    "n = int(input())\n",
    "listt=[]\n",
    "board = [listt.append(input()) for i in range(n)]\n",
    "\n",
    "horizontal=0\n",
    "vertical=0\n",
    "diagonal=0\n",
    "for i in listt :\n",
    "    if i=='YYYY'or i=='RRRR':\n",
    "        horizontal= horizontal + 1\n",
    "\n",
    "\n",
    "for i in range(n-1):\n",
    "    if i<len(listt) and listt[i][i]==listt[i+1][i]:\n",
    "        vertical=vertical + 1\n",
    "for i in range(n-1):\n",
    "    if i<len(listt) and listt[i][i]==listt[i+1][i+1]:\n",
    "        diagonal=diagonal + 1\n",
    "\n",
    "        \n",
    "        \n",
    "    \n",
    "        \n",
    "    \n",
    "        \n",
    "    \n",
    "if VALUE>=1 or vertical>=3 or diagonal>=3:\n",
    "    print('YES')\n",
    "\n",
    "else:\n",
    "    print('NO')\n",
    "    print(diagonal)\n",
    "\n",
    "        \n",
    "\n",
    "    \n",
    "    \n",
    "\n",
    "    \n",
    "    \n"
   ]
  },
  {
   "cell_type": "markdown",
   "id": "00a88ed6",
   "metadata": {},
   "source": [
    "# 2.16"
   ]
  },
  {
   "cell_type": "code",
   "execution_count": 7,
   "id": "cc39b51b",
   "metadata": {},
   "outputs": [
    {
     "name": "stdout",
     "output_type": "stream",
     "text": [
      "False\n"
     ]
    }
   ],
   "source": [
    "T=[[1, 0, 0], [1, 0, 1], [1, 0, 1]]\n",
    "N = len(T)\n",
    "\n",
    "result = True\n",
    "\n",
    "for i in range(T):\n",
    "    if not result:\n",
    "\n",
    "        break\n",
    "    for a in range(N):\n",
    "        T[i][a]=T[a][i]\n",
    "\n"
   ]
  },
  {
   "cell_type": "markdown",
   "id": "30d7618f",
   "metadata": {},
   "source": [
    "# 2.17"
   ]
  },
  {
   "cell_type": "code",
   "execution_count": 2,
   "id": "6db71d9a",
   "metadata": {},
   "outputs": [
    {
     "name": "stdout",
     "output_type": "stream",
     "text": [
      "[[114, 160, 60, 27], [74, 97, 73, 14], [119, 157, 112, 23]]\n"
     ]
    }
   ],
   "source": [
    "matrix1 = eval(input())\n",
    "matrix2 = eval(input())\n",
    "\n",
    "# look again\n",
    "\n",
    "first_dimension_matrix1 = len(matrix1)\n",
    "second_dimension_matrix2 = len(matrix2[0])\n",
    "mutual_dimension = len(matrix2) # or it could be len(matrix1[0])\n",
    "new_generated_matrix = [0] * first_dimension_matrix1\n",
    "for i in range(first_dimension_matrix1):\n",
    "    new_generated_matrix[i] = [0] * second_dimension_matrix2\n",
    "for row in range(first_dimension_matrix1):\n",
    "    for column in range(second_dimension_matrix2):\n",
    "        for i in range(mutual_dimension):\n",
    "            new_generated_matrix[row][column] += matrix1[row][i] * matrix2[i][column]\n",
    "\n",
    "print(new_generated_matrix)"
   ]
  },
  {
   "cell_type": "markdown",
   "id": "b8f94151",
   "metadata": {},
   "source": [
    "# 2.18"
   ]
  },
  {
   "cell_type": "markdown",
   "id": "7ba296b3",
   "metadata": {},
   "source": [
    "In a scientific calculation, matrices are commonly used for data representation. Suppose you are given a matrix  (M×N)\n",
    "  where you need to calculate the average of all the real numbers in the matrix. However, there is a problem in the matrix and some of the values are corrupted and given as ‘NaN’ string (stands for not a number).\n",
    "Write a program that skips the corrupted numbers and outputs the average of rest in the given matrix. 3 digits after the decimal point is enough for our calculation and you can use the built-in  round()\n",
    "  function for this purpose.\n",
    "M\n",
    "  and  N\n",
    "  can be any positive integer.\n",
    "\n",
    "Assume that the list of lists of floats representing the matrix will be given to you in variable  R\n",
    " .\n",
    "\n",
    "Hint: It is necessary to keep the count of uncorrepted data in the given matrix"
   ]
  },
  {
   "cell_type": "code",
   "execution_count": 22,
   "id": "9616a182",
   "metadata": {},
   "outputs": [
    {
     "name": "stdout",
     "output_type": "stream",
     "text": [
      "0.574\n"
     ]
    }
   ],
   "source": [
    "R = [[0.855, 'NaN', 'NaN', 0.661],\n",
    "     [0.713, 'NaN', 0.306, 0.805],\n",
    "     ['NaN', 'NaN', 0.562, 0.1],\n",
    "     ['NaN', 0.895, 0.132, 0.795],\n",
    "     [0.453, 0.519, 0.662, 'NaN']]\n",
    "\n",
    "Dimension=len(R)\n",
    "Lenght=len(R[0])\n",
    "Output=0\n",
    "corrupted=0\n",
    "for i in range(Dimension):\n",
    "    for columns in range(Lenght):\n",
    "       if R[i][columns] != 'NaN':\n",
    "           Output=Output+R[i][columns]\n",
    "       else:\n",
    "           Output=Output\n",
    "           corrupted=corrupted+1\n",
    "      \n",
    "\n",
    "Output= round(Output/((Dimension*Lenght)-corrupted),3)\n",
    "print(Output)           \n",
    "   \n",
    "    \n",
    "    "
   ]
  },
  {
   "cell_type": "markdown",
   "id": "d9a66532",
   "metadata": {},
   "source": [
    "# 2.19\n",
    "You want to create a chatbot that can understand when the human on the other end is sad. So you want to be able to recognize texts like \"uhu\", \"uhuh\",\"uhuhu\"....\n",
    "Write a program that prints \"Are you sad, hooman?\" to the screen if the given input is in the form  (uh)n\n",
    "  or  (uh)nu\n",
    "  where exponent  n\n",
    "  denotes  n\n",
    "  times repetition of the characters in the parantheses. Otherwise, the program should print \"I am so sad, hooman.\"."
   ]
  },
  {
   "cell_type": "code",
   "execution_count": 51,
   "id": "260ba031",
   "metadata": {},
   "outputs": [
    {
     "name": "stdout",
     "output_type": "stream",
     "text": [
      "Are you sad, hooman?\n"
     ]
    }
   ],
   "source": [
    "text=input()\n",
    "sad=0\n",
    "for i in range(len(text)):\n",
    "    if text[0:i+1:2]=='u'*((i+1)-1)  :\n",
    "            sad=sad+1\n",
    "if sad>0:\n",
    "    print('Are you sad, hooman?')\n",
    "else:\n",
    "    print('I am so sad, hooman.')\n",
    "\n",
    "        "
   ]
  },
  {
   "cell_type": "markdown",
   "id": "8c740b09",
   "metadata": {},
   "source": [
    "In 1989, the legendary game, Minesweeper was released. The purpose of this game is to find all clear (not containing a mine) cells for a given rectangular board  (M×N)\n",
    "  by using the information from the numbers displayed, indicating how many mined neighbors a clear cell has. In the original game, this neighborhood includes the cells in 8 (both cardinal and intercardinal) directions.\n",
    "For a different version of the game, we will use cardinal directions only (i.e. north, south, east and west) and therefore we will check at most 4 cells to calculate the numbers in the board.\n",
    "Write a program which outputs the board with the calculated numbers for clear cells. The input of the board layout is given as a list of lists, where clear and mined cells are denoted by the ’_’ and ’m’ characters, respectively. For the mined cells, you shall use the ’m’ character again (that’s why we are thankful for providing heterogenous lists in python).\n",
    "\n",
    "The board can be in any dimensions. In other words,  M\n",
    "  and  N\n",
    "  can be any positive integer.\n",
    "\n",
    "Assume that the nested list of characters will be given to you as variable  B\n",
    " ."
   ]
  },
  {
   "cell_type": "code",
   "execution_count": 23,
   "id": "cb57d11c",
   "metadata": {},
   "outputs": [
    {
     "name": "stdout",
     "output_type": "stream",
     "text": [
      "[['m', 1], ['m', 1], [1], [0], [0], ['m', 1], ['m', 1], [1], [0], [0], [1], [1], ['m', 0], [1], [0]]\n"
     ]
    }
   ],
   "source": [
    "B = [['m', 'm', '_', '_', '_'],\n",
    "     ['m', 'm', '_', '_', '_'],\n",
    "     ['_', '_', 'm', '_', '_']]\n",
    "\n",
    "m,n=len(B),len(B[0])\n",
    "result=[]\n",
    "row=[]\n",
    "for i in range(m):\n",
    "    for c in range(n):\n",
    "        row=[]\n",
    "        mine_count=0\n",
    "        if B[i][c]=='m':\n",
    "             row.append('m')\n",
    "             mine_count=0\n",
    "        if  c<(n-1) and B[i][c+1]=='m':#East \n",
    "             mine_count+=1\n",
    "        if c>0 and B[i][c-1]=='m': #West\n",
    "             mine_count+=1     \n",
    "        if i<m-1 and B[i+1][c]=='m': #south\n",
    "            mine_count=+1           \n",
    "        if  i>0 and B[i-1][c]=='m': #north\n",
    "            mine_count=+1\n",
    "        row.append(mine_count)\n",
    "        result.append(row)\n",
    "print(result)\n",
    "             \n",
    "                                \n",
    "             \n",
    "             \n",
    "\n",
    "\n",
    "         \n",
    "         \n",
    "    "
   ]
  }
 ],
 "metadata": {
  "kernelspec": {
   "display_name": "Python 3 (ipykernel)",
   "language": "python",
   "name": "python3"
  },
  "language_info": {
   "codemirror_mode": {
    "name": "ipython",
    "version": 3
   },
   "file_extension": ".py",
   "mimetype": "text/x-python",
   "name": "python",
   "nbconvert_exporter": "python",
   "pygments_lexer": "ipython3",
   "version": "3.10.12"
  }
 },
 "nbformat": 4,
 "nbformat_minor": 5
}
