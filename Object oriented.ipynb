{
 "cells": [
  {
   "cell_type": "markdown",
   "metadata": {},
   "source": [
    "# 4.1 \n"
   ]
  },
  {
   "cell_type": "markdown",
   "metadata": {},
   "source": [
    "\n",
    "\n",
    "Deniz wanted to check the time, but his watch broke. So he asked Aslı to tell him the time. But Aslı doesn’t always tell the truth, so the time she says may not be valid.\n",
    "\n",
    "Write a function named is_time_valid to determine whether a given time is correct or not.\n",
    "\n",
    "Note that the given time is only valid when the given string is between 00.00 and 23.59.\n",
    "\n",
    "Hint: You need to divide the given string into the hour and minute parts somehow"
   ]
  },
  {
   "cell_type": "code",
   "execution_count": 19,
   "metadata": {},
   "outputs": [],
   "source": [
    "def is_time_valid(time):\n",
    "    d=time.split('.',20)\n",
    "    a,b=d[0],d[1]\n",
    "    a=int(a)\n",
    "    b=int(b)\n",
    "    if (a >=00 and a<24) and (b>=00 and b<=59):\n",
    "        print(\"True\")\n",
    "    else:\n",
    "        print(False)\n",
    "        \n",
    "    "
   ]
  },
  {
   "cell_type": "code",
   "execution_count": 21,
   "metadata": {},
   "outputs": [
    {
     "name": "stdout",
     "output_type": "stream",
     "text": [
      "False\n",
      "True\n"
     ]
    }
   ],
   "source": [
    "is_time_valid(\"23.67\")\n",
    "is_time_valid(\"23.57\")"
   ]
  },
  {
   "cell_type": "markdown",
   "metadata": {},
   "source": [
    "# 4.2 \n",
    "\n",
    "Jess is a kindergarten teacher who taught her students the letters just recently. Now, the students can read, and they love to play with letters. One day, she noticed that one of the students used numbers instead of some letters, and she wanted to decipher what the students wrote. So, after finding which number corresponds to which letter, she decided to write a Python function to solve them.\n",
    "\n",
    "Write a function named decipher that takes two arguments, the ciphered text and a solution list, and return the deciphered text."
   ]
  },
  {
   "cell_type": "code",
   "execution_count": 16,
   "metadata": {},
   "outputs": [],
   "source": [
    "def decipher(text,values):\n",
    "    rnge=len(values)\n",
    "    for i in range(rnge):\n",
    "        text=text.replace(values[i][0],values[i][1])\n",
    "    return(text)\n",
    "    \n",
    "    \n",
    "    "
   ]
  },
  {
   "cell_type": "code",
   "execution_count": 18,
   "metadata": {},
   "outputs": [
    {
     "data": {
      "text/plain": [
       "'APL (named after the book A Programming Language) is a programming language developed by Kenneth e. Iverson. Its central datatype is the multidimensional array.'"
      ]
     },
     "execution_count": 18,
     "metadata": {},
     "output_type": "execute_result"
    }
   ],
   "source": [
    "decipher(\"APL (nam3d af73r 7h3 b00k A Pr0gramming Languag3) is a pr0gramming languag3 d3v3l0p3d by K3nn37h 3. Iv3rs0n. I7s c3n7ral da7a7yp3 is 7h3 mul7idim3nsi0nal array.\", [(\"7\", \"t\"), (\"3\", \"e\"), (\"0\", \"o\")])\n"
   ]
  },
  {
   "cell_type": "markdown",
   "metadata": {},
   "source": [
    "# 4.3\n",
    "Write a function named maximum_occurrence which takes one input as a list of integers and returns the integer in the list that occurs the most. It is guaranteed that the number of occurrences of items in the list will be different from each other.\n"
   ]
  },
  {
   "cell_type": "markdown",
   "metadata": {},
   "source": []
  },
  {
   "cell_type": "code",
   "execution_count": 30,
   "metadata": {},
   "outputs": [],
   "source": [
    "def maximum_occurrence(list):\n",
    "    biggest=list[0]\n",
    "    for i in list:\n",
    "        i=int(i)\n",
    "        if i>biggest:\n",
    "            biggest=i\n",
    "    return[int(biggest)]\n",
    "        \n",
    "\n"
   ]
  },
  {
   "cell_type": "code",
   "execution_count": 33,
   "metadata": {},
   "outputs": [
    {
     "name": "stdout",
     "output_type": "stream",
     "text": [
      "[4]\n",
      "[3]\n",
      "[643523]\n"
     ]
    }
   ],
   "source": [
    "print(maximum_occurrence([1,1,1,0,4,4]))\n",
    "print(maximum_occurrence([0,3,3,3,1,0]))\n",
    "print(maximum_occurrence([103443,234525,643523,2123,-45656463563]))\n"
   ]
  },
  {
   "cell_type": "markdown",
   "metadata": {},
   "source": [
    "# 4.4\n",
    "You are given a list of integers and a single integer from that list. The first occurrence of that integer divides our list to 2 sub-lists, left sub-list and right sub-list.\n",
    "\n",
    "Write a function called reverse_left that takes a list of integers and an integer in that list, and reverses the left sub-list of a given list. The function should return a new list.\n",
    "\n",
    "Note that the same integer can occur any number of times in the right sub-list.\n",
    "\n",
    "Hint: There are list methods for finding the first occurrence of an element and reversing a list."
   ]
  },
  {
   "cell_type": "code",
   "execution_count": 48,
   "metadata": {},
   "outputs": [],
   "source": [
    "def reverse_left(lst,reference):\n",
    "    reversed_list=[]\n",
    "    lenght=len(lst)\n",
    "    for i in range(lenght):\n",
    "        if lst[i]==reference:\n",
    "            reversed_list=lst[:i]\n",
    "            reversed_list.reverse()\n",
    "            for a in range(len(lst[i:])):\n",
    "                lst2=lst[i:]\n",
    "                reversed_list.append(lst2[a])\n",
    "            print(reversed_list)\n",
    "            break\n",
    "    "
   ]
  },
  {
   "cell_type": "code",
   "execution_count": 50,
   "metadata": {},
   "outputs": [
    {
     "name": "stdout",
     "output_type": "stream",
     "text": [
      "[5, 4, 1, 8, 6, 6, 3, 2]\n",
      "[77, 34, 77, 51, 64, 39, 57, 67, 58, 63, 51]\n"
     ]
    }
   ],
   "source": [
    "reverse_left([8,1,4,5,6,6,3,2], 6)\n",
    "reverse_left([64, 51, 77, 34, 77, 39, 57, 67, 58, 63, 51], 39)"
   ]
  },
  {
   "cell_type": "markdown",
   "metadata": {},
   "source": [
    "# 4.5 \n",
    "It is your turn to buy groceries. Your friend sends you a shopping list. But you have a problem, the list is difficult to read. The items are separated by commas, uppercase and lowercase characters are mixed up and there are blank spaces all over. So you decide to make the list readable.\n",
    "\n",
    "Write a function named readable that takes input as a string, the shopping list, separated by commas. You need to print each item in a single line, with no leading blank spaces, and in lowercase letters."
   ]
  },
  {
   "cell_type": "code",
   "execution_count": 64,
   "metadata": {},
   "outputs": [],
   "source": [
    "def readable(values):\n",
    "    values=values.split(\",\")\n",
    "    new_text=[]\n",
    "    for i in range(len(values)):\n",
    "        values[i]=values[i].lower()\n",
    "        new_text.append(values[i])\n",
    "    return(new_text)\n",
    "        "
   ]
  },
  {
   "cell_type": "code",
   "execution_count": 65,
   "metadata": {},
   "outputs": [
    {
     "data": {
      "text/plain": [
       "['lemon', '   garlic', ' pasta']"
      ]
     },
     "execution_count": 65,
     "metadata": {},
     "output_type": "execute_result"
    }
   ],
   "source": [
    "readable(\"LemOn,   gaRlic, PASta\")"
   ]
  },
  {
   "cell_type": "code",
   "execution_count": 63,
   "metadata": {},
   "outputs": [
    {
     "name": "stdout",
     "output_type": "stream",
     "text": [
      "sdFFd\n"
     ]
    }
   ],
   "source": [
    "a='sdFFd'\n",
    "a.lower\n",
    "print(a)"
   ]
  },
  {
   "cell_type": "markdown",
   "metadata": {},
   "source": [
    "# 4.6 \n",
    "Our friend Arimu loves hats and wants to buy as many hats as possible. Unfortunately, he can’t always afford all the hats in the store. So he needs to spend his money wisely, to be able to purchase the maximum number of hats.\n",
    "\n",
    "Write a function named buy_hats which takes a list of integers as the costs of hats and an integer as Arimu’s money. This function finds the maximum number of hats Arimu can buy and returns it as an integer.\n",
    "\n",
    "Hint: You might want to rearrange the list of hats in the increasing order of their prices"
   ]
  },
  {
   "cell_type": "code",
   "execution_count": 91,
   "metadata": {},
   "outputs": [],
   "source": [
    "def buy_hats(cost,money):\n",
    "    cost=sorted(cost)\n",
    "    amount=0\n",
    "    sumvalues=[]\n",
    "    summ=0\n",
    "    for i in range(len(cost)):\n",
    "        sumvalues.append(cost[i])\n",
    "        summ=sum(sumvalues)\n",
    "        if summ<=money:\n",
    "            amount+=1\n",
    "        else:\n",
    "            sumvalues.remove(cost[i])\n",
    "    return(amount)\n",
    "        "
   ]
  },
  {
   "cell_type": "code",
   "execution_count": 93,
   "metadata": {},
   "outputs": [
    {
     "data": {
      "text/plain": [
       "6"
      ]
     },
     "execution_count": 93,
     "metadata": {},
     "output_type": "execute_result"
    }
   ],
   "source": [
    "buy_hats([4, 3, 6, 2, 5, 5], 27)\n"
   ]
  },
  {
   "cell_type": "markdown",
   "metadata": {},
   "source": [
    "# 4.7 \n",
    "In mathematics, a diagonal matrix is a matrix in which all non-diagonal entries are zero. That is,  Ai,j=0\n",
    "  if  i≠j\n",
    " . Since it is easier to work with diagonal matrices, we should check them if they are diagonal or not.\n",
    "\n",
    "Write a function called is_diagonal that takes an  n×n\n",
    "  matrix as a list of list of integers and returns a Boolean value stating whether the matrix is diagonal or not.\n",
    "\n",
    "Note that in a diagonal matrix, diagonal entries can be zero as well, but in our case diagonal entries are non-zero integers.\n",
    "\n",
    "Hint: There is a list method that returns the number of occurrences of a given element in that list."
   ]
  },
  {
   "cell_type": "code",
   "execution_count": 105,
   "metadata": {},
   "outputs": [
    {
     "name": "stdout",
     "output_type": "stream",
     "text": [
      "True\n",
      "False\n"
     ]
    }
   ],
   "source": [
    "def is_diagonal(lst):\n",
    "    n=len(lst)\n",
    "    matrix=0\n",
    "    for row in range(n):\n",
    "        true_row=0\n",
    "        for column in range(n):\n",
    "            if (row==column and lst[row][column]!=0) or (row!=column and lst[row][column]==0):\n",
    "                true_row+=1\n",
    "        if true_row==n:\n",
    "            matrix+=1\n",
    "    if matrix==n:\n",
    "        print(True)\n",
    "    else:\n",
    "        print(False)\n",
    "is_diagonal([[1,0,0],[0,1,0],[0,0,1]])\n",
    "is_diagonal([[1,1,1],[2,4,0],[3,3,3]])\n",
    "        "
   ]
  },
  {
   "cell_type": "code",
   "execution_count": 106,
   "metadata": {},
   "outputs": [],
   "source": [
    " # more efficient\n",
    " def is_diagonal(matrix):\n",
    "    n = len(matrix)\n",
    "\n",
    "    for i in range(n):\n",
    "        zeros = matrix[i].count(0)\n",
    "        if(zeros != n-1 or matrix[i][i] == 0):\n",
    "            return False\n",
    "\n",
    "    return True"
   ]
  },
  {
   "cell_type": "markdown",
   "metadata": {},
   "source": [
    "## 4.8. Capitalize Sentences \n",
    "\n",
    "Write a function named capitalize_sentences which takes a string including multiple sentences and returns a string where the first letter of each sentence in the original string is converted to uppercase to correct the typos.\n",
    "\n",
    "A sentence may end with the following characters: '.', '?', '!'. Your function should not interfere with other parts of the string.\n",
    "\n",
    "You may assume that there will be a single blank character between each sentence. You must preserve this blank character in the recovered string. There will be no blank characters after the last sentence"
   ]
  },
  {
   "cell_type": "code",
   "execution_count": 36,
   "metadata": {},
   "outputs": [],
   "source": [
    "def capitalize_sentences(string):\n",
    "    def upper_initial(string):\n",
    "        return string[0].upper() + string[1:] if string else string\n",
    "\n",
    "    def split_by_and_capitalize(string, delimiter):\n",
    "        sentences = [sentence.lstrip() for sentence in string.split(delimiter)]\n",
    "        return (delimiter + ' ').join(\n",
    "                [upper_initial(sentence) for sentence in sentences])\n",
    "\n",
    "    delimiters = ['.', '?', '!']\n",
    "    for delimiter in delimiters:\n",
    "        string = split_by_and_capitalize(string, delimiter)\n",
    "    return string.rstrip() # discard trailing whitespace\n"
   ]
  },
  {
   "cell_type": "markdown",
   "metadata": {},
   "source": [
    "## 4.9. Exercise: Database Recovery \n",
    "Our database has broken. Fortunately, we have a backup database. However, the data was stored as a string. We need to rearrange it. Can you help us?\n",
    "\n",
    "Write a function named reinstall that has to do the following three tasks: 1- Separate the rows 2- Clean and prettify the data 3- Save the data\n",
    "\n",
    "The input of function will be given in the following format:\n",
    "\n",
    "Entry-1 : Number-1 |=| Entry-2 : Number-2 |=| …\n",
    "The return value should be a dictionary where the keys are the given entries, and the values are the numbers corresponding to these entries. You also need to make sure that each entry starts with a capital letter and continue with the lowercase characters."
   ]
  },
  {
   "cell_type": "markdown",
   "metadata": {},
   "source": [
    "reinstall(\"| ahmet : 16 |=| Mehmet : 19 |=| selin : 32 |=| PINAR : 8 |\")"
   ]
  },
  {
   "cell_type": "code",
   "execution_count": 20,
   "metadata": {},
   "outputs": [],
   "source": [
    "def reinstall(string):\n",
    "        delimiter=\"=\"\n",
    "        delimiter2=\"|\"\n",
    "        def splitting (string, delimiter):\n",
    "                string=string.split(\"=\")\n",
    "                text=''\n",
    "                for i in string:\n",
    "                        text+=i\n",
    "                text\n",
    "        \n",
    "        def split_line (string, delimiter2):\n",
    "                string=string.lstrip(delimiter2)\n",
    "                return string\n",
    "        delimiter=\"=\"\n",
    "        delimiter2=\"|\"\n",
    "        \n",
    "        \n",
    "        \n",
    "        print(string )\n",
    "        \n",
    "        \n",
    "             \n",
    "                \n",
    "        "
   ]
  },
  {
   "cell_type": "code",
   "execution_count": 40,
   "metadata": {},
   "outputs": [],
   "source": [
    "ab=\"| ahmet : 16 |,| Mehmet : 19 |,| selin : 32 |,| PINAR : 8 |\"\n",
    "a=''\n",
    "for i in (ab):\n",
    "    a+=i"
   ]
  },
  {
   "cell_type": "code",
   "execution_count": 52,
   "metadata": {},
   "outputs": [
    {
     "data": {
      "text/plain": [
       "['', 'ahmet : 16 |,', 'Mehmet : 19 |,', 'selin : 32 |,', 'PINAR : 8 |']"
      ]
     },
     "execution_count": 52,
     "metadata": {},
     "output_type": "execute_result"
    }
   ],
   "source": [
    "a.split(\"| \")"
   ]
  },
  {
   "cell_type": "code",
   "execution_count": 43,
   "metadata": {},
   "outputs": [
    {
     "data": {
      "text/plain": [
       "'| ahmet : 16 |,| Mehmet : 19 |,| selin : 32 |,| PINAR : 8 |'"
      ]
     },
     "execution_count": 43,
     "metadata": {},
     "output_type": "execute_result"
    }
   ],
   "source": [
    "a"
   ]
  },
  {
   "cell_type": "code",
   "execution_count": 32,
   "metadata": {},
   "outputs": [
    {
     "data": {
      "text/plain": [
       "['| ahmet : 16 |', '| Mehmet : 19 |', '| selin : 32 |', '| PINAR : 8 |']"
      ]
     },
     "execution_count": 32,
     "metadata": {},
     "output_type": "execute_result"
    }
   ],
   "source": [
    "a=\"| ahmet : 16 |=| Mehmet : 19 |=| selin : 32 |=| PINAR : 8 |\"\n",
    "a.split(\"=\")"
   ]
  }
 ],
 "metadata": {
  "kernelspec": {
   "display_name": "Python 3 (ipykernel)",
   "language": "python",
   "name": "python3"
  },
  "language_info": {
   "codemirror_mode": {
    "name": "ipython",
    "version": 3
   },
   "file_extension": ".py",
   "mimetype": "text/x-python",
   "name": "python",
   "nbconvert_exporter": "python",
   "pygments_lexer": "ipython3",
   "version": "3.11.4"
  }
 },
 "nbformat": 4,
 "nbformat_minor": 2
}
