{
 "cells": [
  {
   "cell_type": "markdown",
   "metadata": {},
   "source": [
    "# 4.1 \n"
   ]
  },
  {
   "cell_type": "markdown",
   "metadata": {},
   "source": [
    "\n",
    "\n",
    "Deniz wanted to check the time, but his watch broke. So he asked Aslı to tell him the time. But Aslı doesn’t always tell the truth, so the time she says may not be valid.\n",
    "\n",
    "Write a function named is_time_valid to determine whether a given time is correct or not.\n",
    "\n",
    "Note that the given time is only valid when the given string is between 00.00 and 23.59.\n",
    "\n",
    "Hint: You need to divide the given string into the hour and minute parts somehow"
   ]
  },
  {
   "cell_type": "code",
   "execution_count": 19,
   "metadata": {},
   "outputs": [],
   "source": [
    "def is_time_valid(time):\n",
    "    d=time.split('.',20)\n",
    "    a,b=d[0],d[1]\n",
    "    a=int(a)\n",
    "    b=int(b)\n",
    "    if (a >=00 and a<24) and (b>=00 and b<=59):\n",
    "        print(\"True\")\n",
    "    else:\n",
    "        print(False)\n",
    "        \n",
    "    "
   ]
  },
  {
   "cell_type": "code",
   "execution_count": 21,
   "metadata": {},
   "outputs": [
    {
     "name": "stdout",
     "output_type": "stream",
     "text": [
      "False\n",
      "True\n"
     ]
    }
   ],
   "source": [
    "is_time_valid(\"23.67\")\n",
    "is_time_valid(\"23.57\")"
   ]
  },
  {
   "cell_type": "markdown",
   "metadata": {},
   "source": [
    "# 4.2 \n",
    "\n",
    "Jess is a kindergarten teacher who taught her students the letters just recently. Now, the students can read, and they love to play with letters. One day, she noticed that one of the students used numbers instead of some letters, and she wanted to decipher what the students wrote. So, after finding which number corresponds to which letter, she decided to write a Python function to solve them.\n",
    "\n",
    "Write a function named decipher that takes two arguments, the ciphered text and a solution list, and return the deciphered text."
   ]
  },
  {
   "cell_type": "code",
   "execution_count": 16,
   "metadata": {},
   "outputs": [],
   "source": [
    "def decipher(text,values):\n",
    "    rnge=len(values)\n",
    "    for i in range(rnge):\n",
    "        text=text.replace(values[i][0],values[i][1])\n",
    "    return(text)\n",
    "    \n",
    "    \n",
    "    "
   ]
  },
  {
   "cell_type": "code",
   "execution_count": 18,
   "metadata": {},
   "outputs": [
    {
     "data": {
      "text/plain": [
       "'APL (named after the book A Programming Language) is a programming language developed by Kenneth e. Iverson. Its central datatype is the multidimensional array.'"
      ]
     },
     "execution_count": 18,
     "metadata": {},
     "output_type": "execute_result"
    }
   ],
   "source": [
    "decipher(\"APL (nam3d af73r 7h3 b00k A Pr0gramming Languag3) is a pr0gramming languag3 d3v3l0p3d by K3nn37h 3. Iv3rs0n. I7s c3n7ral da7a7yp3 is 7h3 mul7idim3nsi0nal array.\", [(\"7\", \"t\"), (\"3\", \"e\"), (\"0\", \"o\")])\n"
   ]
  }
 ],
 "metadata": {
  "kernelspec": {
   "display_name": "Python 3 (ipykernel)",
   "language": "python",
   "name": "python3"
  },
  "language_info": {
   "codemirror_mode": {
    "name": "ipython",
    "version": 3
   },
   "file_extension": ".py",
   "mimetype": "text/x-python",
   "name": "python",
   "nbconvert_exporter": "python",
   "pygments_lexer": "ipython3",
   "version": "3.11.4"
  }
 },
 "nbformat": 4,
 "nbformat_minor": 2
}
