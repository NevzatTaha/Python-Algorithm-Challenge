{
 "cells": [
  {
   "cell_type": "markdown",
   "metadata": {},
   "source": [
    "# 4.1 \n"
   ]
  },
  {
   "cell_type": "markdown",
   "metadata": {},
   "source": [
    "\n",
    "\n",
    "Deniz wanted to check the time, but his watch broke. So he asked Aslı to tell him the time. But Aslı doesn’t always tell the truth, so the time she says may not be valid.\n",
    "\n",
    "Write a function named is_time_valid to determine whether a given time is correct or not.\n",
    "\n",
    "Note that the given time is only valid when the given string is between 00.00 and 23.59.\n",
    "\n",
    "Hint: You need to divide the given string into the hour and minute parts somehow"
   ]
  },
  {
   "cell_type": "code",
   "execution_count": 19,
   "metadata": {},
   "outputs": [],
   "source": [
    "def is_time_valid(time):\n",
    "    d=time.split('.',20)\n",
    "    a,b=d[0],d[1]\n",
    "    a=int(a)\n",
    "    b=int(b)\n",
    "    if (a >=00 and a<24) and (b>=00 and b<=59):\n",
    "        print(\"True\")\n",
    "    else:\n",
    "        print(False)\n",
    "        \n",
    "    "
   ]
  },
  {
   "cell_type": "code",
   "execution_count": 21,
   "metadata": {},
   "outputs": [
    {
     "name": "stdout",
     "output_type": "stream",
     "text": [
      "False\n",
      "True\n"
     ]
    }
   ],
   "source": [
    "is_time_valid(\"23.67\")\n",
    "is_time_valid(\"23.57\")"
   ]
  }
 ],
 "metadata": {
  "kernelspec": {
   "display_name": "base",
   "language": "python",
   "name": "python3"
  },
  "language_info": {
   "codemirror_mode": {
    "name": "ipython",
    "version": 3
   },
   "file_extension": ".py",
   "mimetype": "text/x-python",
   "name": "python",
   "nbconvert_exporter": "python",
   "pygments_lexer": "ipython3",
   "version": "3.11.4"
  }
 },
 "nbformat": 4,
 "nbformat_minor": 2
}
