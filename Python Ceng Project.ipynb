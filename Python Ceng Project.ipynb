{
 "cells": [
  {
   "cell_type": "markdown",
   "id": "0806e4b3",
   "metadata": {},
   "source": [
    "Suppose you have borrowed $3000 with 2% monthly interest. For every month you do not pay, your total debt becomes 1.02 times the original debt.\n",
    "\n",
    "Assuming that your plan is to return the money within 6 months and you want to return it in equal amounts, write a program that outputs the amount of money you have to pay every month until you clear your debt (printing 2 digits after decimal point is sufficient)."
   ]
  },
  {
   "cell_type": "code",
   "execution_count": null,
   "id": "4c3637ab",
   "metadata": {},
   "outputs": [],
   "source": [
    "total_money = 3000 * (1.02 ** 6)        \n",
    "month_payment = total_money / 6\n",
    "print(\"{:.2f}\".format(month_payment)) "
   ]
  },
  {
   "cell_type": "markdown",
   "id": "4837a3a2",
   "metadata": {},
   "source": [
    "Consider the previous question, and adjust your code which can calculate the monthly payment for any amount of given debt.\n",
    "\n",
    "You can take the input from the user as a float."
   ]
  },
  {
   "cell_type": "code",
   "execution_count": null,
   "id": "340d53ef",
   "metadata": {},
   "outputs": [],
   "source": [
    "total_money=float(input(\"Amount that you have borrowed \"))\n",
    "total_money1 = total_money * (1.02 ** 6)        \n",
    "month_payment = total_money1 / 6\n",
    "print(\"{:.2f}\".format(month_payment)) \n",
    "\n",
    "\n"
   ]
  },
  {
   "cell_type": "markdown",
   "id": "aa8d4634",
   "metadata": {},
   "source": [
    "Write a program that takes two integers as input and divides the first number (the dividend) with the second number (the divisor). The program should print both the results of the division and the remainder.\n",
    "\n",
    "You can assume that the first number is always bigger than the second number, and both numbers are positive integers."
   ]
  },
  {
   "cell_type": "code",
   "execution_count": null,
   "id": "955dcfb6",
   "metadata": {},
   "outputs": [],
   "source": [
    "a=int(input(\"first number\"))\n",
    "b=int(input(\"second number\"))\n",
    "division=a/b\n",
    "remainder=a%b\n",
    "print(int(division))\n",
    "print(int(remainder))\n"
   ]
  },
  {
   "cell_type": "markdown",
   "id": "7056f673",
   "metadata": {},
   "source": [
    "Write a program that asks the user for their name and greets them accordingly.\n",
    "\n",
    "You can ask for the name and greet the user anyway you like. Note that the  input()  can take a string argument which it then uses as a prompt."
   ]
  },
  {
   "cell_type": "code",
   "execution_count": null,
   "id": "ed8de62c",
   "metadata": {},
   "outputs": [],
   "source": [
    "a=input(\"Hello,what is your name \" )\n",
    "print(\"Nice to meet you \", a,\"!\")"
   ]
  },
  {
   "cell_type": "markdown",
   "id": "7a19c648",
   "metadata": {},
   "source": [
    "You want to buy a new pair of headphones from Amazon. The tax percentage applied to products at Amazon is 20%.\n",
    "\n",
    "Write a program that calculates the tax for the product. First, you shall read an integer from the input; then calculate the tax value; finally, print the result value as a float. (1 digit after decimal point is sufficient)"
   ]
  },
  {
   "cell_type": "code",
   "execution_count": null,
   "id": "a2b9450d",
   "metadata": {},
   "outputs": [],
   "source": [
    "product_cost=float(int(input(\"Cost of the product \")))\n",
    "tax=float(product_cost*0.2)\n",
    "print(float(tax))"
   ]
  },
  {
   "cell_type": "markdown",
   "id": "4f065562",
   "metadata": {},
   "source": [
    "You need to go from a building in the city of Pawnee to a building in the city of Eagleton. Your boss Ron gives you the distance between two buildings in miles because he identifies himself as a Proud American. But your friend Donna, who is going to drive you there, uses a European car and she tells you the average speed you can travel in km/h (kilometers per hour).\n",
    "\n",
    "Given the distance in miles on the first line and speed in km/h on the second line, calculate the time it will take you to travel to Eagleton in minutes. Print this time as a float with 2 digits after decimal point.\n",
    "\n",
    "Hint: One mile is approximately 1.6 kilometer."
   ]
  },
  {
   "cell_type": "code",
   "execution_count": null,
   "id": "269e24b4",
   "metadata": {},
   "outputs": [],
   "source": [
    "distance=float(input(\"Your Distance \"))\n",
    "avg_speed=float(input(\"Average Speed Limit \"))\n",
    "distance1=distance*1.6\n",
    "result=60*(distance1/avg_speed)\n",
    "print(\"{0:.3f},a\".format(result))"
   ]
  },
  {
   "cell_type": "markdown",
   "id": "ed1ba84e",
   "metadata": {},
   "source": [
    "# 1.7 "
   ]
  },
  {
   "cell_type": "code",
   "execution_count": null,
   "id": "3dc67c58",
   "metadata": {},
   "outputs": [],
   "source": [
    "screen=int(input(\"number of screen \"))*63\n",
    "ink_display=int(input(\"number of ink display \"))*30\n",
    "print(\"Total weight of LCD screens: \",format(screen))\n",
    "print(\"Total weight of e ink displays:\", format(ink_display))"
   ]
  },
  {
   "cell_type": "markdown",
   "id": "657c232b",
   "metadata": {},
   "source": [
    "\n",
    "# 1.8\n"
   ]
  },
  {
   "cell_type": "code",
   "execution_count": null,
   "id": "35d4b312",
   "metadata": {},
   "outputs": [],
   "source": [
    "onest_int=float(input())\n",
    "onest_duration=float(input())\n",
    "secst_int=float(input())\n",
    "secst_duration=float(input())\n",
    "thst_int=float(input())\n",
    "thst_duration=float(input())\n",
    "foust_int=float(input())\n",
    "foust_duration=float(input())\n",
    "length_of_lap=float(input())\n",
    "lap=((onest_int*onest_duration)+(secst_int*secst_duration)+(thst_int* thst_duration)+(foust_int* foust_duration))/length_of_lap\n",
    "print(\"{0:.1f}\".format(lap))\n"
   ]
  },
  {
   "cell_type": "markdown",
   "id": "4ae62496",
   "metadata": {},
   "source": [
    "# 1.9"
   ]
  },
  {
   "cell_type": "code",
   "execution_count": null,
   "id": "67b7c3dd",
   "metadata": {},
   "outputs": [],
   "source": [
    "import math\n",
    "width=int(input())\n",
    "length=int(input())\n",
    "print(math.gcd(width,length))"
   ]
  },
  {
   "cell_type": "markdown",
   "id": "9fd0caab",
   "metadata": {},
   "source": [
    "\n",
    "# 1.10"
   ]
  },
  {
   "cell_type": "code",
   "execution_count": null,
   "id": "597833ac",
   "metadata": {},
   "outputs": [],
   "source": [
    "width=int(input())\n",
    "length=int(input())\n",
    "print(math.lcm(width,length))"
   ]
  },
  {
   "cell_type": "markdown",
   "id": "1b1f190b",
   "metadata": {},
   "source": [
    "# 1.11"
   ]
  },
  {
   "cell_type": "code",
   "execution_count": null,
   "id": "d32b1812",
   "metadata": {},
   "outputs": [],
   "source": [
    "n=float(input())\n",
    "\n",
    "result=n+11.00\n",
    "result1=float(result-24)\n",
    "if result>24.00:\n",
    "    print(format(result1))\n",
    "else:\n",
    "    print(result)"
   ]
  },
  {
   "cell_type": "markdown",
   "id": "1e98adb8",
   "metadata": {},
   "source": [
    "# 1.12"
   ]
  },
  {
   "cell_type": "code",
   "execution_count": null,
   "id": "fafa0085",
   "metadata": {},
   "outputs": [],
   "source": [
    "import math\n",
    "pi=math.pi\n",
    "r=float(input())\n",
    "area=(pi*(r*r))\n",
    "volume=4/3*(pi*(r*r*r))\n",
    "print(\"circle area:{0:.2f}\".format(area))\n",
    "print(\"shpere volume{0:.2f}\".format(volume))"
   ]
  },
  {
   "cell_type": "markdown",
   "id": "99ed1c59",
   "metadata": {},
   "source": [
    "# 1.13"
   ]
  },
  {
   "cell_type": "code",
   "execution_count": null,
   "id": "a43414b7",
   "metadata": {},
   "outputs": [],
   "source": [
    "first=int(input())\n",
    "second=int(input())\n",
    "third=int(input())\n",
    "fourth=int(input())\n",
    "mid=(third+first)/2\n",
    "mid2=(second+fourth)/2\n",
    "ref=(third+mid)\n",
    "ref2=(fourth+mid2)\n",
    "print(\"{0:.2f}\".format(mid))\n",
    "print(\"{0:.2f}\".format(mid2))\n",
    "print(\"{0:.2f}\".format(ref))\n",
    "print(\"{0:.2f}\".format(ref2))\n"
   ]
  },
  {
   "cell_type": "markdown",
   "id": "943ed5a7",
   "metadata": {},
   "source": [
    "# 1.14"
   ]
  },
  {
   "cell_type": "markdown",
   "id": "b3f59903",
   "metadata": {},
   "source": [
    "The BMI is defined as the body weight in kilogram divided by square of height in meters.\n",
    "\n",
    "Write a program that calculates BMI (Body Mass Index):\n",
    "\n",
    "First, read two integers from the input, the height in centimeters and the weight in kilogram, respectively.\n",
    "\n",
    "Then calculate the BMI a\n",
    "nd round the value to an integer.\n",
    "\n",
    "Finally, print the result value.\n",
    "\n",
    "Hint: You can use the built-in  round()  function to round the float value to an integer."
   ]
  },
  {
   "cell_type": "code",
   "execution_count": null,
   "id": "fdca257c",
   "metadata": {},
   "outputs": [],
   "source": [
    "height=input(\"height in centimeters: \")\n",
    "weight=input(\" weight in kilogram: \")\n",
    "height2=int(height)/100\n",
    "BMI=int(weight)/float(height2**2)\n",
    "\n",
    "print(round(BMI)\n",
    "     )\n"
   ]
  },
  {
   "cell_type": "markdown",
   "id": "1bc0ce5f",
   "metadata": {},
   "source": [
    "# 1.15"
   ]
  },
  {
   "cell_type": "code",
   "execution_count": null,
   "id": "3935247e",
   "metadata": {},
   "outputs": [],
   "source": [
    "from math import sqrt"
   ]
  },
  {
   "cell_type": "code",
   "execution_count": null,
   "id": "1d2e83a2",
   "metadata": {},
   "outputs": [],
   "source": [
    "\n",
    "x1=float(input(\"x coordinate of the first circle :\" ))\n",
    "y1=float(input(\"y coordinate of the first circle :\"))\n",
    "r1=float(input(\"radius of the first circle :\"))\n",
    "x2=float(input(\"x coordinate of the second circle :\"))\n",
    "y2=float(input(\"y coordinate of the second circle :\"))\n",
    "r2=float(input(\"radius of the second circle :\"))\n",
    "shortest= sqrt(((x2-x1)**2) + ((y2-y1)**2))\n",
    "final=float(shortest)-r1-r2\n",
    "print(round(final,2))\n"
   ]
  },
  {
   "cell_type": "markdown",
   "id": "9920b479",
   "metadata": {},
   "source": [
    "# 1.16"
   ]
  },
  {
   "cell_type": "code",
   "execution_count": null,
   "id": "bbcc0168",
   "metadata": {},
   "outputs": [],
   "source": [
    "m=input()\n",
    "n=input()\n",
    "totalm=6*(int(m)*int(m))\n",
    "litlevube=2*(int(n)*int(n))\n",
    "new_area=4*(int(n)*int(n))\n",
    "print(totalm-litlevube+new_area)\n",
    "\n"
   ]
  },
  {
   "cell_type": "markdown",
   "id": "0c574875",
   "metadata": {},
   "source": [
    "# 1.17"
   ]
  },
  {
   "cell_type": "code",
   "execution_count": null,
   "id": "c1dd58af",
   "metadata": {},
   "outputs": [],
   "source": [
    "# the capacities of faucets\n",
    "f1 = int(input())\n",
    "f2 = int(input())\n",
    "f3 = int(input())\n",
    "f4 = int(input())\n",
    "f5 = int(input())\n",
    "\n",
    "# depths of 4th and 5th faucets\n",
    "d4 = int(input())\n",
    "d5 = int(input())\n",
    "\n",
    "# length, width and depth of the pool\n",
    "l_p = int(input())\n",
    "w_p = int(input())\n",
    "d_p = int(input())\n",
    "\n",
    "# heights of the fourth and fifth faucets from the bottom of the pool\n",
    "h4 = d_p - d4\n",
    "h5 = d_p - d5\n",
    "\n",
    "# Time to fill the volume between the bottom up to height of fourth faucet\n",
    "t1 = (h4 * w_p * l_p) / (f1 + f2 + f3)\n",
    "\n",
    "# Time to fill the volume between the faucet four and five\n",
    "t2 = ((h5 - h4)* w_p * l_p) /(f1 + f2 + f3 - f4)\n",
    "\n",
    "# Time to fill the rest\n",
    "t3 = ((d_p - h5) * w_p * l_p) / (f1 + f2 + f3 - f4 - f5)\n",
    "\n",
    "print(\"Time to fill the pool is {:.2f} mins\".format(t1 + t2 + t3))"
   ]
  },
  {
   "cell_type": "markdown",
   "id": "9a4da6f2",
   "metadata": {},
   "source": [
    "# 1/19"
   ]
  },
  {
   "cell_type": "code",
   "execution_count": null,
   "id": "2e2d9521",
   "metadata": {},
   "outputs": [],
   "source": [
    "n = int(input())\n",
    "m = int(input())\n",
    "\n",
    "total_earnings = (n*(n+1)*100)/2\n",
    "profit = total_earnings - (m*n)\n",
    "print(profit)\n",
    "\n"
   ]
  },
  {
   "cell_type": "markdown",
   "id": "7e872562",
   "metadata": {},
   "source": [
    "# 1.19"
   ]
  },
  {
   "cell_type": "code",
   "execution_count": null,
   "id": "f74484c6",
   "metadata": {},
   "outputs": [],
   "source": [
    "x1=int(input())\n",
    "y1=int(input())\n",
    "x2=int(input())\n",
    "y2=int(input())\n",
    "x3=int(input())\n",
    "y3=int(input())\n",
    "first=(x1,y1)\n",
    "second=(x2,y2)\n",
    "third=(x3,y3)\n",
    "f=(x1+x2,y1+y2)\n",
    "a=(x1+x2-x3,y1+y2-y3)\n",
    "print(f)\n",
    "print(a)\n",
    "\n"
   ]
  },
  {
   "cell_type": "code",
   "execution_count": null,
   "id": "d56f61f6",
   "metadata": {},
   "outputs": [],
   "source": [
    "x1 = int(input())\n",
    "y1 = int(input())\n",
    "x2 = int(input())\n",
    "y2 = int(input())\n",
    "x3 = int(input())\n",
    "y3 = int(input())\n",
    "\n",
    "p1 = (x1, y1)\n",
    "p2 = (x2, y2)\n",
    "p3 = (x3, y3)\n",
    "\n",
    "vector = (p1[0]+p2[0], p1[1]+p2[1])\n",
    "translated_point = (vector[0]-p3[0], vector[1]-p3[1])\n",
    "\n",
    "print(vector)\n",
    "print(translated_point)"
   ]
  },
  {
   "cell_type": "markdown",
   "id": "d8fcbd5a",
   "metadata": {},
   "source": [
    "# 1.20"
   ]
  },
  {
   "cell_type": "code",
   "execution_count": null,
   "id": "a6042762",
   "metadata": {},
   "outputs": [],
   "source": [
    "a=str(input())\n",
    "a=a.replace(\"than\",\"then\")\n",
    "print(a)\n"
   ]
  },
  {
   "cell_type": "code",
   "execution_count": null,
   "id": "3f46b977",
   "metadata": {},
   "outputs": [],
   "source": [
    "a=\"When you're here, than you're home.\"\n",
    "a[0:3]=\"s\""
   ]
  },
  {
   "cell_type": "markdown",
   "id": "5456af7c",
   "metadata": {},
   "source": [
    "## 1.21"
   ]
  },
  {
   "cell_type": "code",
   "execution_count": null,
   "id": "eec1909c",
   "metadata": {},
   "outputs": [],
   "source": [
    "first=int(input())\n",
    "second=int(input())\n",
    "third=int(input())\n",
    "fourth=int(input())\n",
    "fifth=int(input())\n",
    "summ=int(first+second+third+fourth+fifth)\n",
    "final=(summ-min(first,second,third,fourth,fifth))/8\n",
    "print(final)"
   ]
  },
  {
   "cell_type": "markdown",
   "id": "2fab4d99",
   "metadata": {},
   "source": [
    "# 1.22"
   ]
  },
  {
   "cell_type": "code",
   "execution_count": null,
   "id": "e50b8685",
   "metadata": {},
   "outputs": [],
   "source": [
    "import math\n",
    "capacity=int(input())\n",
    "consumption=int(input())\n",
    "length=int(input())\n",
    "print(round(length/(math.ceil(capacity/consumption)*100)))\n",
    "\n",
    "one_cap_km=((capacity/consumption)*100)\n",
    "ll=((capacity/consumption)*100)*math.ceil(length/(math.ceil(capacity/consumption)*100))\n",
    "print(\"{:.2f}\".format((ll-length)*capacity/one_cap_km))\n",
    "\n"
   ]
  },
  {
   "cell_type": "markdown",
   "id": "623cbef9",
   "metadata": {},
   "source": [
    "# 1.23"
   ]
  },
  {
   "cell_type": "code",
   "execution_count": 12,
   "id": "7bce6959",
   "metadata": {},
   "outputs": [
    {
     "name": "stdout",
     "output_type": "stream",
     "text": [
      "1,3,5,7,12,14,\"?\",40\n",
      "6,17\n",
      "(1, 3, 5, 7, 12, 14, 17, 40)\n"
     ]
    }
   ],
   "source": [
    "original_tuple=eval(input())\n",
    "index,change=eval(input())\n",
    "original_tuple=list(original_tuple)\n",
    "original_tuple[index]=change\n",
    "original_tuple=tuple(original_tuple)\n",
    "print(original_tuple)\n"
   ]
  },
  {
   "cell_type": "markdown",
   "id": "11780bae",
   "metadata": {},
   "source": [
    "## 1.24"
   ]
  },
  {
   "cell_type": "code",
   "execution_count": 1,
   "id": "19fbd9c4",
   "metadata": {},
   "outputs": [
    {
     "name": "stdout",
     "output_type": "stream",
     "text": [
      "10,4,6,2,7,32,6,76,99\n",
      "3\n",
      "(2, 7, 32)\n"
     ]
    }
   ],
   "source": [
    "lst = eval(input())\n",
    "\n",
    "m = int(input())\n",
    "\n",
    "n = len(lst)  \n",
    "\n",
    "print(lst[(n-m) // 2 : (n+m) // 2])  "
   ]
  },
  {
   "cell_type": "code",
   "execution_count": null,
   "id": "9590a12a",
   "metadata": {},
   "outputs": [],
   "source": []
  }
 ],
 "metadata": {
  "kernelspec": {
   "display_name": "Python 3 (ipykernel)",
   "language": "python",
   "name": "python3"
  },
  "language_info": {
   "codemirror_mode": {
    "name": "ipython",
    "version": 3
   },
   "file_extension": ".py",
   "mimetype": "text/x-python",
   "name": "python",
   "nbconvert_exporter": "python",
   "pygments_lexer": "ipython3",
   "version": "3.9.12"
  }
 },
 "nbformat": 4,
 "nbformat_minor": 5
}
