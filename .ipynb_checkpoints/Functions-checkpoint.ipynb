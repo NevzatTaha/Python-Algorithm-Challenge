{
 "cells": [
  {
   "cell_type": "markdown",
   "metadata": {},
   "source": [
    "# 3.1\n",
    "Ben and Leslie are fighting to decide if waffles or calzones are more delicious. After debating over a pros-vs-cons list for hours, they flip a coin to decide.\n",
    "\n",
    "Write a function named best_food that takes a string. If the string is \"HEADS\", the function should return \"CALZONES\" and if the string is \"TAILS\", the function should return \"WAFFLES\". If the string is not \"HEADS\" or \"TAILS\", it should return \"flip again"
   ]
  },
  {
   "cell_type": "code",
   "execution_count": 9,
   "metadata": {},
   "outputs": [],
   "source": [
    "def best_food(degerr):\n",
    "    if degerr=='HEADS':\n",
    "        print('CALZONES')\n",
    "    elif degerr=='TAILS':\n",
    "        print('WAFFLES')\n",
    "    else:\n",
    "        print('Flip Again')"
   ]
  },
  {
   "cell_type": "code",
   "execution_count": 10,
   "metadata": {},
   "outputs": [
    {
     "name": "stdout",
     "output_type": "stream",
     "text": [
      "CALZONES\n",
      "WAFFLES\n",
      "Flip Again\n"
     ]
    }
   ],
   "source": [
    "best_food('HEADS')\n",
    "best_food('TAILS')\n",
    "best_food('dsf')"
   ]
  },
  {
   "cell_type": "markdown",
   "metadata": {},
   "source": [
    "# 3.2"
   ]
  },
  {
   "cell_type": "markdown",
   "metadata": {},
   "source": [
    "For this task, you need to write a function named convert that converts temperature values in Fahrenheit to Celcius and vice versa. The function will take 2 arguments, an integer and a one-character string. The integer will denote the temperature and the string will denote the unit of temperature. (‘F’ means that the given temperature is in Fahrenheit and ‘C’ means that it is in Celcius). If the unit is not ‘F’ or ‘C’, you should simply return “invalid unit”. If the given unit is valid, then the function must return a float as the result of conversion.\n",
    "\n"
   ]
  },
  {
   "cell_type": "code",
   "execution_count": 23,
   "metadata": {},
   "outputs": [
    {
     "name": "stdout",
     "output_type": "stream",
     "text": [
      "-31.0\n",
      "100.0\n"
     ]
    }
   ],
   "source": [
    "def convert(temperature, value):\n",
    "    if type(temperature) == int and type(value) == str:\n",
    "        if value == 'F':\n",
    "            print(float(((temperature - 32) / 180) * 100))\n",
    "        elif value == 'C':\n",
    "            print(float(temperature / 5 * 9) + 32)\n",
    "        else:\n",
    "            print('Invalid unit')\n",
    "    else:\n",
    "        print('Invalid input')\n",
    "\n",
    "convert(-35, 'C')\n",
    "convert(212, 'F')\n"
   ]
  }
 ],
 "metadata": {
  "kernelspec": {
   "display_name": "Python 3 (ipykernel)",
   "language": "python",
   "name": "python3"
  },
  "language_info": {
   "codemirror_mode": {
    "name": "ipython",
    "version": 3
   },
   "file_extension": ".py",
   "mimetype": "text/x-python",
   "name": "python",
   "nbconvert_exporter": "python",
   "pygments_lexer": "ipython3",
   "version": "3.10.12"
  }
 },
 "nbformat": 4,
 "nbformat_minor": 2
}
