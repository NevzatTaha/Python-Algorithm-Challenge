{
 "cells": [
  {
   "cell_type": "markdown",
   "metadata": {},
   "source": [
    "# 3.1\n",
    "Ben and Leslie are fighting to decide if waffles or calzones are more delicious. After debating over a pros-vs-cons list for hours, they flip a coin to decide.\n",
    "\n",
    "Write a function named best_food that takes a string. If the string is \"HEADS\", the function should return \"CALZONES\" and if the string is \"TAILS\", the function should return \"WAFFLES\". If the string is not \"HEADS\" or \"TAILS\", it should return \"flip again"
   ]
  },
  {
   "cell_type": "code",
   "execution_count": 9,
   "metadata": {},
   "outputs": [],
   "source": [
    "def best_food(degerr):\n",
    "    if degerr=='HEADS':\n",
    "        print('CALZONES')\n",
    "    elif degerr=='TAILS':\n",
    "        print('WAFFLES')\n",
    "    else:\n",
    "        print('Flip Again')"
   ]
  },
  {
   "cell_type": "code",
   "execution_count": 10,
   "metadata": {},
   "outputs": [
    {
     "name": "stdout",
     "output_type": "stream",
     "text": [
      "CALZONES\n",
      "WAFFLES\n",
      "Flip Again\n"
     ]
    }
   ],
   "source": [
    "best_food('HEADS')\n",
    "best_food('TAILS')\n",
    "best_food('dsf')"
   ]
  },
  {
   "cell_type": "markdown",
   "metadata": {},
   "source": [
    "# 3.2"
   ]
  },
  {
   "cell_type": "markdown",
   "metadata": {},
   "source": [
    "For this task, you need to write a function named convert that converts temperature values in Fahrenheit to Celcius and vice versa. The function will take 2 arguments, an integer and a one-character string. The integer will denote the temperature and the string will denote the unit of temperature. (‘F’ means that the given temperature is in Fahrenheit and ‘C’ means that it is in Celcius). If the unit is not ‘F’ or ‘C’, you should simply return “invalid unit”. If the given unit is valid, then the function must return a float as the result of conversion.\n",
    "\n"
   ]
  },
  {
   "cell_type": "code",
   "execution_count": 23,
   "metadata": {},
   "outputs": [
    {
     "name": "stdout",
     "output_type": "stream",
     "text": [
      "-31.0\n",
      "100.0\n"
     ]
    }
   ],
   "source": [
    "def convert(temperature, value):\n",
    "    if type(temperature) == int and type(value) == str:\n",
    "        if value == 'F':\n",
    "            print(float(((temperature - 32) / 180) * 100))\n",
    "        elif value == 'C':\n",
    "            print(float(temperature / 5 * 9) + 32)\n",
    "        else:\n",
    "            print('Invalid unit')\n",
    "    else:\n",
    "        print('Invalid input')\n",
    "\n",
    "convert(-35, 'C')\n",
    "convert(212, 'F')\n"
   ]
  },
  {
   "cell_type": "markdown",
   "metadata": {},
   "source": [
    "# 3.3\n",
    "Leslie Knope is the deputy director of the department of Parks and Recreation. She wants to build a park in front of all of her friends’ houses. She loves her friends so much, but she also loves being a servant to the citizens and values their opinions. Being the reasonable thing to do, she holds a public forum to take a vote for each park to be built or not. For each park, if the votes in favor are double or more than the votes against, that park is decided to be built. Can you help Tom, Leslie’s lazy co-worker who is in charge of doing the calculation, so that he can decide if a park is going to be built or not?\n",
    "\n",
    "Write a function named to_be_built that takes two integers as the votes in favor and against the park and returns a string either \"YES\" if the park is going to be built, or \"NO\" if not."
   ]
  },
  {
   "cell_type": "code",
   "execution_count": 26,
   "metadata": {},
   "outputs": [],
   "source": [
    "def to_be_built(first,second):\n",
    "    if (second*2)<=first:\n",
    "        return(\"Yes\")\n",
    "    else:\n",
    "        return(\"No\")\n",
    "    \n",
    "        \n",
    "        \n",
    "\n",
    "\n"
   ]
  },
  {
   "cell_type": "code",
   "execution_count": 28,
   "metadata": {},
   "outputs": [
    {
     "data": {
      "text/plain": [
       "'Yes'"
      ]
     },
     "execution_count": 28,
     "metadata": {},
     "output_type": "execute_result"
    }
   ],
   "source": [
    "to_be_built(26, 13)\n",
    "\n"
   ]
  },
  {
   "cell_type": "markdown",
   "metadata": {},
   "source": [
    "# 3.4\n",
    "Ozi wants to help his sister with her math homework, which is about determinig whether a given quadratic equation has real roots or not.\n",
    "\n",
    "Remember that a given quadratic equation  ax2+bx+c\n",
    "  has real roots if the discriminant is greater than or equal to 0, where the discriminant is defined as follows:\n",
    "\n",
    "(3.4.1)\n",
    "Δ=b2−4ac\n",
    " \n",
    ".\n",
    "\n",
    "Write a function called has_real_roots that takes three integers as the coefficients of the equation and returns True if this equation has real roots and False if not.\n"
   ]
  },
  {
   "cell_type": "code",
   "execution_count": 7,
   "metadata": {},
   "outputs": [],
   "source": [
    "def has_real_roots(a,b,c):\n",
    "    result=(b**2)-(4*a*c)\n",
    "    if result>=0:\n",
    "        print(\"True\")\n",
    "    else:\n",
    "        print(\"False\")"
   ]
  },
  {
   "cell_type": "code",
   "execution_count": 10,
   "metadata": {},
   "outputs": [
    {
     "name": "stdout",
     "output_type": "stream",
     "text": [
      "True\n",
      "False\n"
     ]
    }
   ],
   "source": [
    "has_real_roots(1, -4, 4)\n",
    "has_real_roots(1, -2, 4)\n"
   ]
  },
  {
   "cell_type": "markdown",
   "metadata": {},
   "source": [
    "# 3.5\n",
    "Calculus exam results are announced and your result is above the announced average. You want to have an idea about the letter grade you will get, and to do this you ask everyone you know about their exam results. You want to calculate the median of the results, which will give you some more idea about the distribution of the grades so that you can take a better guess about your letter grade.\n",
    "\n",
    "Write a function named find_median that takes a list of integers as the distribution of the grades and returns an integer as the median of this distribution. If the list has an even length, the function must return the higher of the two middle elements.\n",
    "\n",
    "Hint: You can use the built-in function  sorted()\n",
    "  to get the grades in the increasing order."
   ]
  },
  {
   "cell_type": "code",
   "execution_count": 20,
   "metadata": {},
   "outputs": [],
   "source": [
    "def find_median(list):\n",
    "    sorted_list=sorted(list)\n",
    "    leng=len(list)\n",
    "    if leng%2==0:\n",
    "        mean_number=int(leng/2)\n",
    "        return(sorted_list[mean_number])\n",
    "    else:\n",
    "        mean_number=int((leng-1)/2)\n",
    "        return(sorted_list[mean_number])\n",
    "        \n",
    "\n",
    "\n",
    "\n",
    "    "
   ]
  },
  {
   "cell_type": "code",
   "execution_count": 23,
   "metadata": {},
   "outputs": [
    {
     "name": "stdout",
     "output_type": "stream",
     "text": [
      "33\n",
      "46\n"
     ]
    }
   ],
   "source": [
    "print(find_median([72,32,49,20,33]))\n",
    "print(find_median([27,48,9,63,99,61,33,80,43,84,39,46,40,46,16,55,69,43,11,57]))\n",
    "\n"
   ]
  },
  {
   "cell_type": "markdown",
   "metadata": {},
   "source": [
    "# 3.6\n",
    "Write a function named middle_point that calculates the middle point of two points on a 2D plane. The function must take two points as a 2-tuple of floats, and must return the middle point in the same type. "
   ]
  },
  {
   "cell_type": "code",
   "execution_count": 27,
   "metadata": {},
   "outputs": [],
   "source": [
    "def middle_point(x,y):\n",
    "    xa,xb=x[0],x[1]\n",
    "    ya,yb=y[0],y[1]\n",
    "    a_sum=(xa+ya)/2\n",
    "    b_sum=(xb+yb)/2\n",
    "    result=(a_sum,b_sum)\n",
    "    return(result)"
   ]
  },
  {
   "cell_type": "code",
   "execution_count": 28,
   "metadata": {},
   "outputs": [
    {
     "data": {
      "text/plain": [
       "(2.5, 3.0)"
      ]
     },
     "execution_count": 28,
     "metadata": {},
     "output_type": "execute_result"
    }
   ],
   "source": [
    "middle_point((1.0, 2.0), (4.0, 4.0))\n"
   ]
  },
  {
   "cell_type": "markdown",
   "metadata": {},
   "source": [
    "# 3.7\n",
    "Write a function named sampled_average that takes a list of integers and an integer as a target average. This function return “yes” if we can remove a single element from the given list so that the average of the remaining is equal to target average, prints “no” otherwise."
   ]
  },
  {
   "cell_type": "code",
   "execution_count": 80,
   "metadata": {},
   "outputs": [],
   "source": [
    "def sampled_average(numbers, k):\n",
    "    n = len(numbers)\n",
    "    if sum(numbers) - k * (n - 1) in numbers:\n",
    "        return \"yes\"\n",
    "    else:\n",
    "        return \"no\"\n",
    "\n",
    "        \n",
    "    \n"
   ]
  },
  {
   "cell_type": "code",
   "execution_count": 81,
   "metadata": {},
   "outputs": [
    {
     "data": {
      "text/plain": [
       "'no'"
      ]
     },
     "execution_count": 81,
     "metadata": {},
     "output_type": "execute_result"
    }
   ],
   "source": [
    "sampled_average([1,3], 2)"
   ]
  }
 ],
 "metadata": {
  "kernelspec": {
   "display_name": "Python 3 (ipykernel)",
   "language": "python",
   "name": "python3"
  },
  "language_info": {
   "codemirror_mode": {
    "name": "ipython",
    "version": 3
   },
   "file_extension": ".py",
   "mimetype": "text/x-python",
   "name": "python",
   "nbconvert_exporter": "python",
   "pygments_lexer": "ipython3",
   "version": "3.10.11"
  }
 },
 "nbformat": 4,
 "nbformat_minor": 2
}
