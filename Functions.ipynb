{
 "cells": [
  {
   "cell_type": "markdown",
   "metadata": {},
   "source": [
    "# 3.1\n",
    "Ben and Leslie are fighting to decide if waffles or calzones are more delicious. After debating over a pros-vs-cons list for hours, they flip a coin to decide.\n",
    "\n",
    "Write a function named best_food that takes a string. If the string is \"HEADS\", the function should return \"CALZONES\" and if the string is \"TAILS\", the function should return \"WAFFLES\". If the string is not \"HEADS\" or \"TAILS\", it should return \"flip again"
   ]
  },
  {
   "cell_type": "code",
   "execution_count": 9,
   "metadata": {},
   "outputs": [],
   "source": [
    "def best_food(degerr):\n",
    "    if degerr=='HEADS':\n",
    "        print('CALZONES')\n",
    "    elif degerr=='TAILS':\n",
    "        print('WAFFLES')\n",
    "    else:\n",
    "        print('Flip Again')"
   ]
  },
  {
   "cell_type": "code",
   "execution_count": 10,
   "metadata": {},
   "outputs": [
    {
     "name": "stdout",
     "output_type": "stream",
     "text": [
      "CALZONES\n",
      "WAFFLES\n",
      "Flip Again\n"
     ]
    }
   ],
   "source": [
    "best_food('HEADS')\n",
    "best_food('TAILS')\n",
    "best_food('dsf')"
   ]
  },
  {
   "cell_type": "markdown",
   "metadata": {},
   "source": [
    "# 3.2"
   ]
  },
  {
   "cell_type": "markdown",
   "metadata": {},
   "source": [
    "For this task, you need to write a function named convert that converts temperature values in Fahrenheit to Celcius and vice versa. The function will take 2 arguments, an integer and a one-character string. The integer will denote the temperature and the string will denote the unit of temperature. (‘F’ means that the given temperature is in Fahrenheit and ‘C’ means that it is in Celcius). If the unit is not ‘F’ or ‘C’, you should simply return “invalid unit”. If the given unit is valid, then the function must return a float as the result of conversion.\n",
    "\n"
   ]
  },
  {
   "cell_type": "code",
   "execution_count": 23,
   "metadata": {},
   "outputs": [
    {
     "name": "stdout",
     "output_type": "stream",
     "text": [
      "-31.0\n",
      "100.0\n"
     ]
    }
   ],
   "source": [
    "def convert(temperature, value):\n",
    "    if type(temperature) == int and type(value) == str:\n",
    "        if value == 'F':\n",
    "            print(float(((temperature - 32) / 180) * 100))\n",
    "        elif value == 'C':\n",
    "            print(float(temperature / 5 * 9) + 32)\n",
    "        else:\n",
    "            print('Invalid unit')\n",
    "    else:\n",
    "        print('Invalid input')\n",
    "\n",
    "convert(-35, 'C')\n",
    "convert(212, 'F')\n"
   ]
  },
  {
   "cell_type": "markdown",
   "metadata": {},
   "source": [
    "# 3.3\n",
    "Leslie Knope is the deputy director of the department of Parks and Recreation. She wants to build a park in front of all of her friends’ houses. She loves her friends so much, but she also loves being a servant to the citizens and values their opinions. Being the reasonable thing to do, she holds a public forum to take a vote for each park to be built or not. For each park, if the votes in favor are double or more than the votes against, that park is decided to be built. Can you help Tom, Leslie’s lazy co-worker who is in charge of doing the calculation, so that he can decide if a park is going to be built or not?\n",
    "\n",
    "Write a function named to_be_built that takes two integers as the votes in favor and against the park and returns a string either \"YES\" if the park is going to be built, or \"NO\" if not."
   ]
  },
  {
   "cell_type": "code",
   "execution_count": 26,
   "metadata": {},
   "outputs": [],
   "source": [
    "def to_be_built(first,second):\n",
    "    if (second*2)<=first:\n",
    "        return(\"Yes\")\n",
    "    else:\n",
    "        return(\"No\")\n",
    "    \n",
    "        \n",
    "        \n",
    "\n",
    "\n"
   ]
  },
  {
   "cell_type": "code",
   "execution_count": 28,
   "metadata": {},
   "outputs": [
    {
     "data": {
      "text/plain": [
       "'Yes'"
      ]
     },
     "execution_count": 28,
     "metadata": {},
     "output_type": "execute_result"
    }
   ],
   "source": [
    "to_be_built(26, 13)\n",
    "\n"
   ]
  },
  {
   "cell_type": "code",
   "execution_count": null,
   "metadata": {},
   "outputs": [],
   "source": []
  }
 ],
 "metadata": {
  "kernelspec": {
   "display_name": "Python 3 (ipykernel)",
   "language": "python",
   "name": "python3"
  },
  "language_info": {
   "codemirror_mode": {
    "name": "ipython",
    "version": 3
   },
   "file_extension": ".py",
   "mimetype": "text/x-python",
   "name": "python",
   "nbconvert_exporter": "python",
   "pygments_lexer": "ipython3",
   "version": "3.11.4"
  }
 },
 "nbformat": 4,
 "nbformat_minor": 2
}
