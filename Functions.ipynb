{
 "cells": [
  {
   "cell_type": "markdown",
   "metadata": {},
   "source": [
    "# 3.1\n",
    "Ben and Leslie are fighting to decide if waffles or calzones are more delicious. After debating over a pros-vs-cons list for hours, they flip a coin to decide.\n",
    "\n",
    "Write a function named best_food that takes a string. If the string is \"HEADS\", the function should return \"CALZONES\" and if the string is \"TAILS\", the function should return \"WAFFLES\". If the string is not \"HEADS\" or \"TAILS\", it should return \"flip again"
   ]
  },
  {
   "cell_type": "code",
   "execution_count": 9,
   "metadata": {},
   "outputs": [],
   "source": [
    "def best_food(degerr):\n",
    "    if degerr=='HEADS':\n",
    "        print('CALZONES')\n",
    "    elif degerr=='TAILS':\n",
    "        print('WAFFLES')\n",
    "    else:\n",
    "        print('Flip Again')"
   ]
  },
  {
   "cell_type": "code",
   "execution_count": 10,
   "metadata": {},
   "outputs": [
    {
     "name": "stdout",
     "output_type": "stream",
     "text": [
      "CALZONES\n",
      "WAFFLES\n",
      "Flip Again\n"
     ]
    }
   ],
   "source": [
    "best_food('HEADS')\n",
    "best_food('TAILS')\n",
    "best_food('dsf')"
   ]
  },
  {
   "cell_type": "markdown",
   "metadata": {},
   "source": [
    "# 3.2"
   ]
  },
  {
   "cell_type": "markdown",
   "metadata": {},
   "source": [
    "For this task, you need to write a function named convert that converts temperature values in Fahrenheit to Celcius and vice versa. The function will take 2 arguments, an integer and a one-character string. The integer will denote the temperature and the string will denote the unit of temperature. (‘F’ means that the given temperature is in Fahrenheit and ‘C’ means that it is in Celcius). If the unit is not ‘F’ or ‘C’, you should simply return “invalid unit”. If the given unit is valid, then the function must return a float as the result of conversion.\n",
    "\n"
   ]
  },
  {
   "cell_type": "code",
   "execution_count": 23,
   "metadata": {},
   "outputs": [
    {
     "name": "stdout",
     "output_type": "stream",
     "text": [
      "-31.0\n",
      "100.0\n"
     ]
    }
   ],
   "source": [
    "def convert(temperature, value):\n",
    "    if type(temperature) == int and type(value) == str:\n",
    "        if value == 'F':\n",
    "            print(float(((temperature - 32) / 180) * 100))\n",
    "        elif value == 'C':\n",
    "            print(float(temperature / 5 * 9) + 32)\n",
    "        else:\n",
    "            print('Invalid unit')\n",
    "    else:\n",
    "        print('Invalid input')\n",
    "\n",
    "convert(-35, 'C')\n",
    "convert(212, 'F')\n"
   ]
  },
  {
   "cell_type": "markdown",
   "metadata": {},
   "source": [
    "# 3.3\n",
    "Leslie Knope is the deputy director of the department of Parks and Recreation. She wants to build a park in front of all of her friends’ houses. She loves her friends so much, but she also loves being a servant to the citizens and values their opinions. Being the reasonable thing to do, she holds a public forum to take a vote for each park to be built or not. For each park, if the votes in favor are double or more than the votes against, that park is decided to be built. Can you help Tom, Leslie’s lazy co-worker who is in charge of doing the calculation, so that he can decide if a park is going to be built or not?\n",
    "\n",
    "Write a function named to_be_built that takes two integers as the votes in favor and against the park and returns a string either \"YES\" if the park is going to be built, or \"NO\" if not."
   ]
  },
  {
   "cell_type": "code",
   "execution_count": 26,
   "metadata": {},
   "outputs": [],
   "source": [
    "def to_be_built(first,second):\n",
    "    if (second*2)<=first:\n",
    "        return(\"Yes\")\n",
    "    else:\n",
    "        return(\"No\")\n",
    "    \n",
    "        \n",
    "        \n",
    "\n",
    "\n"
   ]
  },
  {
   "cell_type": "code",
   "execution_count": 28,
   "metadata": {},
   "outputs": [
    {
     "data": {
      "text/plain": [
       "'Yes'"
      ]
     },
     "execution_count": 28,
     "metadata": {},
     "output_type": "execute_result"
    }
   ],
   "source": [
    "to_be_built(26, 13)\n",
    "\n"
   ]
  },
  {
   "cell_type": "markdown",
   "metadata": {},
   "source": [
    "# 3.4\n",
    "Ozi wants to help his sister with her math homework, which is about determinig whether a given quadratic equation has real roots or not.\n",
    "\n",
    "Remember that a given quadratic equation  ax2+bx+c\n",
    "  has real roots if the discriminant is greater than or equal to 0, where the discriminant is defined as follows:\n",
    "\n",
    "(3.4.1)\n",
    "Δ=b2−4ac\n",
    " \n",
    ".\n",
    "\n",
    "Write a function called has_real_roots that takes three integers as the coefficients of the equation and returns True if this equation has real roots and False if not.\n"
   ]
  },
  {
   "cell_type": "code",
   "execution_count": 7,
   "metadata": {},
   "outputs": [],
   "source": [
    "def has_real_roots(a,b,c):\n",
    "    result=(b**2)-(4*a*c)\n",
    "    if result>=0:\n",
    "        print(\"True\")\n",
    "    else:\n",
    "        print(\"False\")"
   ]
  },
  {
   "cell_type": "code",
   "execution_count": 10,
   "metadata": {},
   "outputs": [
    {
     "name": "stdout",
     "output_type": "stream",
     "text": [
      "True\n",
      "False\n"
     ]
    }
   ],
   "source": [
    "has_real_roots(1, -4, 4)\n",
    "has_real_roots(1, -2, 4)\n"
   ]
  },
  {
   "cell_type": "markdown",
   "metadata": {},
   "source": [
    "# 3.5\n",
    "Calculus exam results are announced and your result is above the announced average. You want to have an idea about the letter grade you will get, and to do this you ask everyone you know about their exam results. You want to calculate the median of the results, which will give you some more idea about the distribution of the grades so that you can take a better guess about your letter grade.\n",
    "\n",
    "Write a function named find_median that takes a list of integers as the distribution of the grades and returns an integer as the median of this distribution. If the list has an even length, the function must return the higher of the two middle elements.\n",
    "\n",
    "Hint: You can use the built-in function  sorted()\n",
    "  to get the grades in the increasing order."
   ]
  },
  {
   "cell_type": "code",
   "execution_count": 20,
   "metadata": {},
   "outputs": [],
   "source": [
    "def find_median(list):\n",
    "    sorted_list=sorted(list)\n",
    "    leng=len(list)\n",
    "    if leng%2==0:\n",
    "        mean_number=int(leng/2)\n",
    "        return(sorted_list[mean_number])\n",
    "    else:\n",
    "        mean_number=int((leng-1)/2)\n",
    "        return(sorted_list[mean_number])\n",
    "        \n",
    "\n",
    "\n",
    "\n",
    "    "
   ]
  },
  {
   "cell_type": "code",
   "execution_count": 23,
   "metadata": {},
   "outputs": [
    {
     "name": "stdout",
     "output_type": "stream",
     "text": [
      "33\n",
      "46\n"
     ]
    }
   ],
   "source": [
    "print(find_median([72,32,49,20,33]))\n",
    "print(find_median([27,48,9,63,99,61,33,80,43,84,39,46,40,46,16,55,69,43,11,57]))\n",
    "\n"
   ]
  },
  {
   "cell_type": "markdown",
   "metadata": {},
   "source": [
    "# 3.6\n",
    "Write a function named middle_point that calculates the middle point of two points on a 2D plane. The function must take two points as a 2-tuple of floats, and must return the middle point in the same type. "
   ]
  },
  {
   "cell_type": "code",
   "execution_count": 27,
   "metadata": {},
   "outputs": [],
   "source": [
    "def middle_point(x,y):\n",
    "    xa,xb=x[0],x[1]\n",
    "    ya,yb=y[0],y[1]\n",
    "    a_sum=(xa+ya)/2\n",
    "    b_sum=(xb+yb)/2\n",
    "    result=(a_sum,b_sum)\n",
    "    return(result)"
   ]
  },
  {
   "cell_type": "code",
   "execution_count": 28,
   "metadata": {},
   "outputs": [
    {
     "data": {
      "text/plain": [
       "(2.5, 3.0)"
      ]
     },
     "execution_count": 28,
     "metadata": {},
     "output_type": "execute_result"
    }
   ],
   "source": [
    "middle_point((1.0, 2.0), (4.0, 4.0))\n"
   ]
  },
  {
   "cell_type": "markdown",
   "metadata": {},
   "source": [
    "# 3.7\n",
    "Write a function named sampled_average that takes a list of integers and an integer as a target average. This function return “yes” if we can remove a single element from the given list so that the average of the remaining is equal to target average, prints “no” otherwise."
   ]
  },
  {
   "cell_type": "code",
   "execution_count": 80,
   "metadata": {},
   "outputs": [],
   "source": [
    "def sampled_average(numbers, k):\n",
    "    n = len(numbers)\n",
    "    if sum(numbers) - k * (n - 1) in numbers:\n",
    "        return \"yes\"\n",
    "    else:\n",
    "        return \"no\"\n",
    "\n",
    "        \n",
    "    \n"
   ]
  },
  {
   "cell_type": "code",
   "execution_count": 81,
   "metadata": {},
   "outputs": [
    {
     "data": {
      "text/plain": [
       "'no'"
      ]
     },
     "execution_count": 81,
     "metadata": {},
     "output_type": "execute_result"
    }
   ],
   "source": [
    "sampled_average([1,3], 2)"
   ]
  },
  {
   "cell_type": "markdown",
   "metadata": {},
   "source": [
    "# 3.8\n",
    "Andy is a guitar player, and nowadays he and his band (Mouse Rat) are not on the best terms. His band members want to force him to practice more, but they also know that Andy cannot play songs with complexity values larger than a number depending on his mood. Every day the band members give Andy a list of new songs to practice.\n",
    "\n",
    "Write a function named as andys_songs that takes the list of song complexity values as a list of integers and Andy’s mood as parameters as an integer, and return an integer indicating how many songs that Andy can play on that day."
   ]
  },
  {
   "cell_type": "code",
   "execution_count": 7,
   "metadata": {},
   "outputs": [
    {
     "name": "stdout",
     "output_type": "stream",
     "text": [
      "4\n",
      "7\n"
     ]
    }
   ],
   "source": [
    "def andys_songs (songs,mood):\n",
    "    count=0\n",
    "    for each_song in songs:\n",
    "        if int(each_song)<= mood:\n",
    "            count+=1\n",
    "\n",
    "    return(count)\n",
    "print(andys_songs([2, 7, 12, 5, 1, 0, 6, 8], 5))\n",
    "print(andys_songs([4, 8, 15, 16, 23, 42, 108, 271, 49, 88], 55))"
   ]
  },
  {
   "cell_type": "markdown",
   "metadata": {},
   "source": [
    " # 3.9 Bankruptcy Countdown\n",
    "  When a person, company or organization is unable to pay their debts or make payment to their employees, it is called bankruptcy.”\n",
    "\n",
    "Your friend Tom co-owns an entertainment company called “Entertainment 720”, but none of the owners know anything about finance or accounting. Tom asks for your help to manage their finances and you accept to help. When looking into the numbers, you realize that the company is about to go bankrupt.\n",
    "\n",
    "Write a function named countdown that takes two arguments: (1) an integer for the amount of money Entertainment 720 has left and (2) a list of integers for the monthly payments done to the employees. This function should return how many months Entertainment 720 has before going fully bankrupt as an integer. If their money is insufficient from the beginning then the function must return 0."
   ]
  },
  {
   "cell_type": "code",
   "execution_count": 1,
   "metadata": {},
   "outputs": [
    {
     "data": {
      "text/plain": [
       "0"
      ]
     },
     "execution_count": 1,
     "metadata": {},
     "output_type": "execute_result"
    }
   ],
   "source": [
    "def countdown(money,debt):\n",
    "    sum_debt=0\n",
    "    count=0\n",
    "    for i in range(len(debt)):\n",
    "        sum_debt+=debt[i]\n",
    "        if sum_debt<=money:\n",
    "            count+=1 \n",
    "    return(count)\n",
    "\n",
    "countdown(2000, [2900, 1000, 400, 23000])\n"
   ]
  },
  {
   "cell_type": "code",
   "execution_count": 2,
   "metadata": {},
   "outputs": [
    {
     "data": {
      "text/plain": [
       "4"
      ]
     },
     "execution_count": 2,
     "metadata": {},
     "output_type": "execute_result"
    }
   ],
   "source": [
    "countdown(12500, [7000, 4500, 750, 150, 7100, 1000])"
   ]
  },
  {
   "cell_type": "markdown",
   "metadata": {},
   "source": [
    "# 3.10 \n",
    "Cartman wants to eat some sushi. So, he goes to City Sushi. The menu has  N\n",
    "  sushis in it, with indexes starting from 1, and he has the prices of them as a list of integers. He would like to choose sushis between a starting and an ending index.\n",
    "\n",
    "Write a function named total_price that takes a list of integers as the prices of sushis, and two integers as the starting and ending index of the selection (with the ending index excluded). The function must return the total cost of selected sushis as an integer."
   ]
  },
  {
   "cell_type": "code",
   "execution_count": 3,
   "metadata": {},
   "outputs": [],
   "source": [
    "def total_price (price,firstselect,lastselect):\n",
    "    for i in range(len(price)):\n",
    "        new_list =price[firstselect-1:lastselect-1]\n",
    "        result=sum(new_list)\n",
    "    return(result)        "
   ]
  },
  {
   "cell_type": "code",
   "execution_count": 4,
   "metadata": {},
   "outputs": [
    {
     "data": {
      "text/plain": [
       "25"
      ]
     },
     "execution_count": 4,
     "metadata": {},
     "output_type": "execute_result"
    }
   ],
   "source": [
    "total_price([1, 5, 2, 6, 12, 5, 23, 15], 2, 6)"
   ]
  },
  {
   "cell_type": "code",
   "execution_count": 5,
   "metadata": {},
   "outputs": [
    {
     "data": {
      "text/plain": [
       "47"
      ]
     },
     "execution_count": 5,
     "metadata": {},
     "output_type": "execute_result"
    }
   ],
   "source": [
    "total_price([7, 7, 7, 5, 6, 3, 5, 7, 8], 1, 9)"
   ]
  },
  {
   "cell_type": "markdown",
   "metadata": {},
   "source": [
    "# 3.11\n",
    "You are a warrior who is given a difficult quest to complete. In this journey, you encounter various types of troubles including monsters. You have to fight them off to continue and you want to see how much the next attack will hurt you.\n",
    "\n",
    "Write a function called health_bar to show your current health status. This function takes 3 integers: (1) your base health, (2) your current health and (3) the damage you take. The function returns your current health status as a string with “X”s (remaining health) and “_”s (missing health). Here are some accompanying specifications:\n",
    "\n",
    "Your base health and the damage you take will always be a positive integer.\n",
    "\n",
    "The damage you take can be more than your current health.\n",
    "\n",
    "The length of your health bar string must match your base health.\n",
    "\n",
    "Consider the following case: If your base health is 9 and your current health is 7 when you take 3 damage, your current health bar becomes “XXXX_____”."
   ]
  },
  {
   "cell_type": "code",
   "execution_count": 8,
   "metadata": {},
   "outputs": [],
   "source": [
    "def health_bar(base_health, current_health, damage):\n",
    "    remaining_health = current_health - damage\n",
    "    if remaining_health<0:\n",
    "        remaining_health=0\n",
    "    \n",
    "    missing=   base_health-remaining_health\n",
    "    return('X'*remaining_health+'_'*missing)\n",
    "        \n",
    "    \n",
    "        \n",
    "    \n",
    "            \n",
    "            "
   ]
  },
  {
   "cell_type": "code",
   "execution_count": 10,
   "metadata": {},
   "outputs": [
    {
     "data": {
      "text/plain": [
       "'XXXXXXX____'"
      ]
     },
     "execution_count": 10,
     "metadata": {},
     "output_type": "execute_result"
    }
   ],
   "source": [
    "health_bar(11, 11, 4)"
   ]
  },
  {
   "cell_type": "markdown",
   "metadata": {},
   "source": [
    "# 3.12\n",
    "A palindrome is a piece of text which can be read as the same backwards and forward. For example, “onino” is a palindrom whereas “onion” is not. Your task is to write a function called is_palindrome that takes a string and returns True if the given string is palindrome and False otherwise.\n",
    "\n",
    "Hint: Use recursion."
   ]
  },
  {
   "cell_type": "code",
   "execution_count": 20,
   "metadata": {},
   "outputs": [],
   "source": [
    "def is_palindrome(text):\n",
    "    first=[]\n",
    "    second=[]\n",
    "    for i in range(len(text)):\n",
    "        first.append(text[i])\n",
    "        if i==0:\n",
    "            second.append(text[-1])\n",
    "        else:\n",
    "            second.append(text[-(i+1)])\n",
    "    if first==second:\n",
    "        return(True)\n",
    "    else:\n",
    "        return(False)\n",
    "        \n",
    "   "
   ]
  },
  {
   "cell_type": "code",
   "execution_count": 22,
   "metadata": {},
   "outputs": [
    {
     "data": {
      "text/plain": [
       "True"
      ]
     },
     "execution_count": 22,
     "metadata": {},
     "output_type": "execute_result"
    }
   ],
   "source": [
    "is_palindrome(\"dammitimmad\")"
   ]
  },
  {
   "cell_type": "markdown",
   "metadata": {},
   "source": [
    "# 3.13\n",
    "In mathematics, range is defined as the difference between the largest and the smallest values in a set of values. Implement a function named range_of that takes a list of integers and returns the range of it as an integer. The elements in list are not necessarily in ascending order. You cannot use built-in functions  min()\n",
    "  or  max()\n",
    " ."
   ]
  },
  {
   "cell_type": "code",
   "execution_count": 24,
   "metadata": {},
   "outputs": [],
   "source": [
    "def range_of(text):\n",
    "    biggest=text[0]\n",
    "    smallest=text[0]\n",
    "    for i in range(len(text)):\n",
    "        if text[i]>biggest:\n",
    "            biggest=text[i]\n",
    "        if text[i]<smallest:\n",
    "            smallest=text[i]\n",
    "    differences=biggest-smallest\n",
    "    return(differences)\n",
    "        \n",
    "    "
   ]
  },
  {
   "cell_type": "code",
   "execution_count": 25,
   "metadata": {},
   "outputs": [
    {
     "name": "stdout",
     "output_type": "stream",
     "text": [
      "38\n",
      "0\n"
     ]
    }
   ],
   "source": [
    "print(range_of([1, 4, 6, 28, -10, 0, 0, 1]))\n",
    "print(range_of([0,0]))"
   ]
  },
  {
   "cell_type": "markdown",
   "metadata": {},
   "source": [
    "# 3.14 \n",
    "Write a function named increment_list that takes a list of integers and returns a new list with all elements of the argument list incremented by one. You need to make sure that the original list does not change. To achieve this, you will need to make a copy of the original list.\n",
    "\n",
    "Hint: You can use slicing to get a (shallow) copy of the list."
   ]
  },
  {
   "cell_type": "code",
   "execution_count": 28,
   "metadata": {},
   "outputs": [],
   "source": [
    "def increment_list(text):\n",
    "    new_text=[]\n",
    "    for i in range(len(text)):\n",
    "        new_text.append(text[i]+1)\n",
    "    return(new_text)\n"
   ]
  },
  {
   "cell_type": "code",
   "execution_count": 30,
   "metadata": {},
   "outputs": [
    {
     "data": {
      "text/plain": [
       "[2, 3, 4, 11, 16]"
      ]
     },
     "execution_count": 30,
     "metadata": {},
     "output_type": "execute_result"
    }
   ],
   "source": [
    "# Use variable assignment to be able to observe the original list\n",
    "# after the function call\n",
    "\n",
    "a = [1, 2, 3, 10, 15]\n",
    "\n",
    "increment_list(a)\n"
   ]
  },
  {
   "cell_type": "markdown",
   "metadata": {},
   "source": [
    "# 3.15\n",
    "In this question, the task is for helping a shop owner who wants to know whether there are even number of customers in her shop at any time.\n",
    "\n",
    "Whenever she needs the answer, she should call even_customers function with no argument and this function must return True or False according to the number of customers in the shop being even or odd respectively. To keep track of the incoming and outgoing customers, she will call incoming and outgoing functions. These functions do not take any arguments and do not return anything.\n",
    "\n",
    "Hint: Think about using a global variable which is accessible to all three functions."
   ]
  }
 ],
 "metadata": {
  "kernelspec": {
   "display_name": "Python 3 (ipykernel)",
   "language": "python",
   "name": "python3"
  },
  "language_info": {
   "codemirror_mode": {
    "name": "ipython",
    "version": 3
   },
   "file_extension": ".py",
   "mimetype": "text/x-python",
   "name": "python",
   "nbconvert_exporter": "python",
   "pygments_lexer": "ipython3",
   "version": "3.11.4"
  }
 },
 "nbformat": 4,
 "nbformat_minor": 2
}
